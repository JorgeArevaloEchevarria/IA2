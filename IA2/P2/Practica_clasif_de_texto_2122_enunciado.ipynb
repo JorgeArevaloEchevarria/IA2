{
 "cells": [
  {
   "cell_type": "markdown",
   "metadata": {},
   "source": [
    "# Práctica 2: Procesamiento del Lenguaje Natural\n",
    "\n",
    "__Fecha de entrega: 5 de abril de 2022__\n",
    "\n",
    "El objetivo de esta práctica es aplicar los conceptos teóricos vistos en clase en el módulo de PLN. La práctica consta de 2 notebooks que se entregarán simultáneamente en la tarea de entrega habilitada en el Campus  Virtual.\n",
    "\n",
    "Lo más importante en esta práctica no es el código Python, sino el análisis de los datos y modelos que construyas y las explicaciones razonadas de cada una de las decisiones que tomes. __No se valorarán trozos de código o gráficas sin ningún tipo de contexto o explicación__.\n",
    "\n",
    "Finalmente, recuerda establecer el parámetro `random_state` en todas las funciones que tomen decisiones aleatorias para que los resultados sean reproducibles (los resultados no varíen entre ejecuciones)."
   ]
  },
  {
   "cell_type": "code",
   "execution_count": 4,
   "metadata": {},
   "outputs": [],
   "source": [
    "RANDOM_STATE = 42"
   ]
  },
  {
   "cell_type": "markdown",
   "metadata": {},
   "source": [
    "Número de grupo: 02\n",
    "\n",
    "Nombres de los estudiantes: Jesus Martin y Jorge Arevalo"
   ]
  },
  {
   "cell_type": "markdown",
   "metadata": {},
   "source": [
    "# Apartado 1: Clasificador de noticias"
   ]
  },
  {
   "cell_type": "markdown",
   "metadata": {},
   "source": [
    "## 1) Carga del conjunto de datos\n",
    "\n",
    "El fichero `BBC News.csv` contiene noticias clasificadas en 5 categorías diferentes. \n",
    "\n",
    "Carga los datos en un dataframe teniendo en cuenta que la columna `ArticleId` es un identificador de la noticia y por lo tanto no debes usarlo para clasificar. \n",
    "\n",
    "Estudia el tamaño del conjunto de datos y la proporción de noticias que pertenecen a cada una de las categorías. Indica si debemos tenerlo en cuenta de alguna forma al analizar los modelos que construyamos.\n",
    "\n",
    "Muestra un mensaje cualquiera y explica si lo habrías clasificado en la clase correcta tras leerlo.\n",
    "\n",
    "Crea una partición de los datos dejando el 80% para entrenamiento y el 20% restante para test usando la función `train_test_split` de sklearn. "
   ]
  },
  {
   "cell_type": "markdown",
   "metadata": {},
   "source": [
    "clasificador de noticias, hay varios tipos de noticias, hay que partir 80(entrenamiento) 20(test)y hay q representar mendiante bolsa de palabras, monogramas con frecuencia de aparacion de cada palabra con sklearn, aplicar vectorizacion para entrenamiento y test, mostrar un mensaje de texto normal y vectorizacdo.\n",
    "calcular.\n",
    "no hace falta buscar valores de k para knn.\n",
    "comparar parte 2 con word embeding.\n",
    "word embeding mirar el notebook, para cargarla...., y vamos a hacer math entre palabra vectorizada(tokens) y la word embeding y calcular el vector medio(media de las dimensiones de las palabras a buscar) de cada  ... igual que en el notebook con el texto corto. caracterizar cada noticia por su vector medio.\n",
    "compraar knn o gausiano y analizar el error y los datos, por ver si los datos son diversos.\n",
    "fijarse notebooks y diapositivas"
   ]
  },
  {
   "cell_type": "code",
   "execution_count": 5,
   "metadata": {},
   "outputs": [
    {
     "name": "stdout",
     "output_type": "stream",
     "text": [
      "      ArticleId                                               Text  \\\n",
      "0          1833  worldcom ex-boss launches defence lawyers defe...   \n",
      "1           154  german business confidence slides german busin...   \n",
      "2          1101  bbc poll indicates economic gloom citizens in ...   \n",
      "3          1976  lifestyle  governs mobile choice  faster  bett...   \n",
      "4           917  enron bosses in $168m payout eighteen former e...   \n",
      "...         ...                                                ...   \n",
      "1485        857  double eviction from big brother model caprice...   \n",
      "1486        325  dj double act revamp chart show dj duo jk and ...   \n",
      "1487       1590  weak dollar hits reuters revenues at media gro...   \n",
      "1488       1587  apple ipod family expands market apple has exp...   \n",
      "1489        538  santy worm makes unwelcome visit thousands of ...   \n",
      "\n",
      "           Category  \n",
      "0          business  \n",
      "1          business  \n",
      "2          business  \n",
      "3              tech  \n",
      "4          business  \n",
      "...             ...  \n",
      "1485  entertainment  \n",
      "1486  entertainment  \n",
      "1487       business  \n",
      "1488           tech  \n",
      "1489           tech  \n",
      "\n",
      "[1490 rows x 3 columns]\n",
      "                                                   Text       Category\n",
      "0     worldcom ex-boss launches defence lawyers defe...       business\n",
      "1     german business confidence slides german busin...       business\n",
      "2     bbc poll indicates economic gloom citizens in ...       business\n",
      "3     lifestyle  governs mobile choice  faster  bett...           tech\n",
      "4     enron bosses in $168m payout eighteen former e...       business\n",
      "...                                                 ...            ...\n",
      "1485  double eviction from big brother model caprice...  entertainment\n",
      "1486  dj double act revamp chart show dj duo jk and ...  entertainment\n",
      "1487  weak dollar hits reuters revenues at media gro...       business\n",
      "1488  apple ipod family expands market apple has exp...           tech\n",
      "1489  santy worm makes unwelcome visit thousands of ...           tech\n",
      "\n",
      "[1490 rows x 2 columns]\n"
     ]
    }
   ],
   "source": [
    "import pandas as pd\n",
    "df = pd.read_csv(\"BBC News.csv\")\n",
    "print(df)\n",
    "#eliminamos la columna ArticleId para clasificar\n",
    "df = df.drop(['ArticleId'], axis=1)\n",
    "print(df)"
   ]
  },
  {
   "cell_type": "code",
   "execution_count": 6,
   "metadata": {},
   "outputs": [
    {
     "name": "stdout",
     "output_type": "stream",
     "text": [
      "sport            346\n",
      "business         336\n",
      "politics         274\n",
      "entertainment    273\n",
      "tech             261\n",
      "Name: Category, dtype: int64\n"
     ]
    }
   ],
   "source": [
    "#podemos ver la frecuencia de cada categoria\n",
    "freq = df['Category'].value_counts() \n",
    "print(freq) \n",
    "#podemos ver que tienen una frecuencia parecida aun que el tema que mas influye es el deporte seguido de los negocios"
   ]
  },
  {
   "cell_type": "code",
   "execution_count": 7,
   "metadata": {},
   "outputs": [
    {
     "name": "stdout",
     "output_type": "stream",
     "text": [
      "                                                Text  Category\n",
      "0  worldcom ex-boss launches defence lawyers defe...  business\n",
      "1  german business confidence slides german busin...  business\n",
      "2  bbc poll indicates economic gloom citizens in ...  business\n",
      "3  lifestyle  governs mobile choice  faster  bett...      tech\n",
      "4  enron bosses in $168m payout eighteen former e...  business\n"
     ]
    }
   ],
   "source": [
    "print(df.head())"
   ]
  },
  {
   "cell_type": "code",
   "execution_count": 8,
   "metadata": {},
   "outputs": [
    {
     "name": "stdout",
     "output_type": "stream",
     "text": [
      "worldcom ex-boss launches defence lawyers defending former worldcom chief bernie ebbers against a battery of fraud charges have called a company whistleblower as their first witness.  cynthia cooper  worldcom s ex-head of internal accounting  alerted directors to irregular accounting practices at the us telecoms giant in 2002. her warnings led to the collapse of the firm following the discovery of an $11bn (£5.7bn) accounting fraud. mr ebbers has pleaded not guilty to charges of fraud and conspiracy.  prosecution lawyers have argued that mr ebbers orchestrated a series of accounting tricks at worldcom  ordering employees to hide expenses and inflate revenues to meet wall street earnings estimates. but ms cooper  who now runs her own consulting business  told a jury in new york on wednesday that external auditors arthur andersen had approved worldcom s accounting in early 2001 and 2002. she said andersen had given a  green light  to the procedures and practices used by worldcom. mr ebber s lawyers have said he was unaware of the fraud  arguing that auditors did not alert him to any problems.  ms cooper also said that during shareholder meetings mr ebbers often passed over technical questions to the company s finance chief  giving only  brief  answers himself. the prosecution s star witness  former worldcom financial chief scott sullivan  has said that mr ebbers ordered accounting adjustments at the firm  telling him to  hit our books . however  ms cooper said mr sullivan had not mentioned  anything uncomfortable  about worldcom s accounting during a 2001 audit committee meeting. mr ebbers could face a jail sentence of 85 years if convicted of all the charges he is facing. worldcom emerged from bankruptcy protection in 2004  and is now known as mci. last week  mci agreed to a buyout by verizon communications in a deal valued at $6.75bn.\n",
      "business\n"
     ]
    }
   ],
   "source": [
    "#mostraremos la primera fila para analizar si esta bien adjudicado la categoria a la que pertenece\n",
    "print(df.iloc[0]['Text'])\n",
    "print(df.iloc[0]['Category'])"
   ]
  },
  {
   "cell_type": "markdown",
   "metadata": {},
   "source": [
    "Tras leerlo lo habria clasificado en businees ya que habla sobre ambitos empresariales ademas de contener palabras claves como exjefe, compañia, abogados, fraude, empresa....\n",
    "Con la unica categoria que se podria llegar a tener algunas dudas si podria pertenecer seria politica, pero como he dicho antes este texto tiene palabras caracteristicas claras de un texto de un ambiente empresarial o de negocios."
   ]
  },
  {
   "cell_type": "code",
   "execution_count": 9,
   "metadata": {},
   "outputs": [],
   "source": [
    "#Creamos una partición de los datos dejando el 80% para entrenamiento y el 20% restante para test \n",
    "from sklearn.model_selection import train_test_split\n",
    "#train_data, test_data = train_test_split(df, test_size=0.2)\n",
    "train_data, test_data, train_category, test_category  = train_test_split(df['Text'], df['Category'], test_size = 0.2)"
   ]
  },
  {
   "cell_type": "code",
   "execution_count": 10,
   "metadata": {},
   "outputs": [
    {
     "data": {
      "text/plain": [
       "29      iran budget seeks state sell-offs iran s presi...\n",
       "781     comic morris returns with sitcom comedian chri...\n",
       "820     levy tipped for whitbread prize novelist andre...\n",
       "1242    blair ready to call election tony blair seems ...\n",
       "1000    middlesbrough 2-2 charlton a late header by te...\n",
       "                              ...                        \n",
       "1309    saudi ministry to employ women women will be e...\n",
       "190     the producers scoops stage awards the producer...\n",
       "713     straw praises kashmir moves the uk has welcome...\n",
       "692     s korean credit card firm rescued south korea ...\n",
       "600     newcastle line up babayaro newcastle manager g...\n",
       "Name: Text, Length: 1192, dtype: object"
      ]
     },
     "execution_count": 10,
     "metadata": {},
     "output_type": "execute_result"
    }
   ],
   "source": [
    "train_data"
   ]
  },
  {
   "cell_type": "code",
   "execution_count": 11,
   "metadata": {},
   "outputs": [
    {
     "data": {
      "text/plain": [
       "119     o sullivan quick to hail italians ireland coac...\n",
       "92      straw attacked on china arms moves to lift the...\n",
       "341     hillbillies singer scoggins dies country and w...\n",
       "1399    wmc says xstrata bid is too low australian min...\n",
       "892     palestinian economy in decline despite a short...\n",
       "                              ...                        \n",
       "1448    keegan hails comeback king fowler manchester c...\n",
       "290     baywatch dubbed  worst tv import  surf show ba...\n",
       "215     kilroy-silk attacked with slurry euro mp rober...\n",
       "144     broadband fuels online expression fast web acc...\n",
       "869     a decade of good website design the web looks ...\n",
       "Name: Text, Length: 298, dtype: object"
      ]
     },
     "execution_count": 11,
     "metadata": {},
     "output_type": "execute_result"
    }
   ],
   "source": [
    "test_data"
   ]
  },
  {
   "cell_type": "code",
   "execution_count": 12,
   "metadata": {},
   "outputs": [
    {
     "data": {
      "text/plain": [
       "29           business\n",
       "781     entertainment\n",
       "820     entertainment\n",
       "1242         politics\n",
       "1000            sport\n",
       "            ...      \n",
       "1309         business\n",
       "190     entertainment\n",
       "713          politics\n",
       "692          business\n",
       "600             sport\n",
       "Name: Category, Length: 1192, dtype: object"
      ]
     },
     "execution_count": 12,
     "metadata": {},
     "output_type": "execute_result"
    }
   ],
   "source": [
    "train_category"
   ]
  },
  {
   "cell_type": "code",
   "execution_count": 13,
   "metadata": {},
   "outputs": [
    {
     "data": {
      "text/plain": [
       "119             sport\n",
       "92           politics\n",
       "341     entertainment\n",
       "1399         business\n",
       "892          business\n",
       "            ...      \n",
       "1448            sport\n",
       "290     entertainment\n",
       "215          politics\n",
       "144              tech\n",
       "869              tech\n",
       "Name: Category, Length: 298, dtype: object"
      ]
     },
     "execution_count": 13,
     "metadata": {},
     "output_type": "execute_result"
    }
   ],
   "source": [
    "test_category"
   ]
  },
  {
   "cell_type": "markdown",
   "metadata": {},
   "source": [
    "## 2) Representación basada en bolsa de palabras y frecuencia de aparición\n",
    "\n",
    "La primera vectorización que vamos a usar representará los mensajes usando el modelo de bolsa de palabras, monogramas y la frecuencia de aparición de cada palabra. Usa como _stop words_ las que vienen configuradas por defecto para el inglés.\n",
    "\n",
    "Aplica la vectorización a los conjuntos de mensajes de entrenamiento y test. Muestra algún mensaje tanto en su formato de texto original como en la versión vectorizada. ¿Qué palabras se han eliminado y por qué?\n",
    "\n",
    "Entrena un clasificador Naive Bayes Multinomial y calcula su tasa de aciertos sobre el conjunto de entrenamiento y el conjunto de test. A continuación calcula los valores de precisión, exhaustividad y puntuación F1 para cada una de las clases. Dibuja la matriz de confusión. Analiza los resultados obtenidos.\n",
    "\n",
    "A continuación, entrena un clasificador k-NN con la configuración por defecto y usando la misma vectorización. Analiza los resultados, ¿a qué crees que se deben?"
   ]
  },
  {
   "cell_type": "code",
   "execution_count": 14,
   "metadata": {},
   "outputs": [],
   "source": [
    "from sklearn.feature_extraction.text import CountVectorizer\n",
    "from sklearn.feature_extraction.text import TfidfTransformer\n",
    "#binary la mas relevante\n",
    "vectorizer = CountVectorizer(stop_words='english', binary=False, ngram_range=(1,1))\n",
    "# Tomamos los textos del conjunto de entrenamiento y los transformamos en \n",
    "# una matriz de datos (palabras) según el diccionario estándar"
   ]
  },
  {
   "cell_type": "code",
   "execution_count": 15,
   "metadata": {},
   "outputs": [],
   "source": [
    "train_vector_data = vectorizer.fit_transform(train_data)"
   ]
  },
  {
   "cell_type": "code",
   "execution_count": 16,
   "metadata": {},
   "outputs": [
    {
     "name": "stdout",
     "output_type": "stream",
     "text": [
      "  (0, 11019)\t3\n",
      "  (0, 3566)\t5\n",
      "  (0, 17959)\t1\n",
      "  (0, 19145)\t2\n",
      "  (0, 17992)\t2\n",
      "  (0, 14194)\t1\n",
      "  (0, 15644)\t2\n",
      "  (0, 13368)\t1\n",
      "  (0, 11528)\t8\n",
      "  (0, 21182)\t1\n",
      "  (0, 6198)\t1\n",
      "  (0, 7767)\t1\n",
      "  (0, 15982)\t1\n",
      "  (0, 18918)\t1\n",
      "  (0, 522)\t1\n",
      "  (0, 12314)\t1\n",
      "  (0, 11065)\t1\n",
      "  (0, 16897)\t1\n",
      "  (0, 6127)\t1\n",
      "  (0, 14213)\t4\n",
      "  (0, 8312)\t1\n",
      "  (0, 22248)\t6\n",
      "  (0, 19139)\t1\n",
      "  (0, 409)\t1\n",
      "  (0, 12669)\t2\n",
      "  :\t:\n",
      "  (1191, 12596)\t1\n",
      "  (1191, 9272)\t1\n",
      "  (1191, 18797)\t3\n",
      "  (1191, 20575)\t1\n",
      "  (1191, 15261)\t1\n",
      "  (1191, 10610)\t1\n",
      "  (1191, 19366)\t1\n",
      "  (1191, 13784)\t1\n",
      "  (1191, 3156)\t1\n",
      "  (1191, 5181)\t1\n",
      "  (1191, 358)\t1\n",
      "  (1191, 5846)\t1\n",
      "  (1191, 10079)\t1\n",
      "  (1191, 21983)\t1\n",
      "  (1191, 19677)\t1\n",
      "  (1191, 16911)\t1\n",
      "  (1191, 2920)\t1\n",
      "  (1191, 18399)\t1\n",
      "  (1191, 1355)\t1\n",
      "  (1191, 463)\t1\n",
      "  (1191, 18883)\t1\n",
      "  (1191, 4071)\t1\n",
      "  (1191, 2410)\t3\n",
      "  (1191, 16838)\t1\n",
      "  (1191, 1767)\t1\n"
     ]
    }
   ],
   "source": [
    "print(train_vector_data)"
   ]
  },
  {
   "cell_type": "code",
   "execution_count": 17,
   "metadata": {},
   "outputs": [],
   "source": [
    "test_vector_data = vectorizer.transform(test_data)"
   ]
  },
  {
   "cell_type": "code",
   "execution_count": 18,
   "metadata": {},
   "outputs": [
    {
     "name": "stdout",
     "output_type": "stream",
     "text": [
      "  (0, 47)\t1\n",
      "  (0, 204)\t1\n",
      "  (0, 420)\t2\n",
      "  (0, 487)\t1\n",
      "  (0, 2241)\t1\n",
      "  (0, 2506)\t2\n",
      "  (0, 2683)\t1\n",
      "  (0, 3399)\t1\n",
      "  (0, 4607)\t1\n",
      "  (0, 4748)\t1\n",
      "  (0, 5263)\t1\n",
      "  (0, 5483)\t1\n",
      "  (0, 6890)\t1\n",
      "  (0, 7095)\t1\n",
      "  (0, 7341)\t1\n",
      "  (0, 7555)\t1\n",
      "  (0, 8198)\t1\n",
      "  (0, 8495)\t1\n",
      "  (0, 8844)\t4\n",
      "  (0, 8997)\t1\n",
      "  (0, 9094)\t1\n",
      "  (0, 9202)\t1\n",
      "  (0, 9230)\t2\n",
      "  (0, 9510)\t1\n",
      "  (0, 9513)\t1\n",
      "  :\t:\n",
      "  (297, 20236)\t2\n",
      "  (297, 20379)\t3\n",
      "  (297, 20389)\t1\n",
      "  (297, 20422)\t2\n",
      "  (297, 20459)\t1\n",
      "  (297, 20750)\t1\n",
      "  (297, 21254)\t1\n",
      "  (297, 21261)\t6\n",
      "  (297, 21267)\t5\n",
      "  (297, 21268)\t1\n",
      "  (297, 21269)\t3\n",
      "  (297, 21273)\t4\n",
      "  (297, 21274)\t1\n",
      "  (297, 21538)\t1\n",
      "  (297, 21736)\t1\n",
      "  (297, 21788)\t4\n",
      "  (297, 21804)\t3\n",
      "  (297, 21805)\t2\n",
      "  (297, 21930)\t1\n",
      "  (297, 22096)\t2\n",
      "  (297, 22098)\t1\n",
      "  (297, 22119)\t1\n",
      "  (297, 22223)\t2\n",
      "  (297, 22248)\t1\n",
      "  (297, 22252)\t2\n"
     ]
    }
   ],
   "source": [
    "print(test_vector_data)"
   ]
  },
  {
   "cell_type": "code",
   "execution_count": 19,
   "metadata": {},
   "outputs": [
    {
     "name": "stdout",
     "output_type": "stream",
     "text": [
      "22367\n",
      "['00', '000', '0001', '000bn', '000m', '000th', '001st', '0051', '007', '01', '0100', '0130', '028', '03', '0400', '041', '04bn', '04secs', '05', '050', '050505', '0530', '0530gmt', '056', '05bn', '05m', '06', '060', '0630', '069', '07', '070', '0700', '0710', '072', '0730', '08', '080', '0800', '0845', '0870', '088', '09', '0900', '093', '09bn', '09secs', '10', '100', '1000m', '1000th', '100bn', '100m', '100ml', '101', '102', '103', '104', '105', '105bn', '105m', '106', '106m', '107', '108', '1080', '109', '10bn', '10ft', '10m', '10secs', '10th', '11', '110', '1100', '110m', '110th', '111', '1115', '111m', '112', '113', '1130', '1130p', '113bn', '115', '116', '117', '117m', '118', '119', '119bn', '119m', '11bn', '11m', '11pm', '11th', '12', '120', '1200', '1200m', '120bn', '120gb', '120m', '121', '1230', '125', '125m', '127th', '128', '12a', '12bn', '12cm', '12m', '12th', '13', '130', '1300', '130m', '132', '133', '1330', '133m', '134', '135', '136', '137', '138m', '138p', '139', '13bn', '13m', '13s', '13secs', '13th', '14', '140', '140bn', '142', '142bn', '1430', '143m', '144', '1441', '144m', '145m', '146', '146m', '148', '149', '1497', '14bn', '14m', '14th', '15', '150', '1500', '1500m', '150m', '150th', '151', '152m', '153', '154m', '155', '155m', '157', '158', '158th', '159', '15bn', '15m', '15mbps', '15s', '15th', '16', '160', '1600', '1600s', '1606', '160bn', '160gb', '160m', '161', '162', '162m', '163', '163m', '164', '1642', '165', '1650', '166', '166bn', '167', '1670', '168', '1689', '168m', '169', '16bn', '16k', '16m', '16th', '17', '170', '1700', '1701', '170bn', '170m', '171', '1727', '173', '1731', '173m', '174', '175', '175m', '1761', '177', '1774', '1776', '178', '178m', '17m', '17th', '18', '180', '1800', '1800gmt', '1800s', '1801', '180bn', '1812', '1815', '182', '1830', '1831', '1834', '184', '1848', '184m', '185', '1857', '186', '1865', '186m', '187', '1870', '1875', '187m', '187th', '1888', '189', '1891', '1893', '18bn', '18m', '18s', '18th', '19', '190', '1900', '1903', '1905', '1908', '190m', '191', '1910', '1911', '1912', '1915', '1917', '192', '1920', '1921', '1922', '1924', '1925', '1927', '1928', '1929', '193', '1930', '1930s', '1934', '1935', '1936', '1937', '1938', '1939', '193bn', '1940', '1940s', '1942', '1943', '1944', '1945', '1946', '1947', '1948', '194m', '1950', '1950s', '1951', '1952', '1953', '1954', '1955', '1956', '1957', '1958', '1959', '196', '1960', '1960s', '1961', '1963', '1964', '1965', '1966', '1967', '1968', '1969', '196m', '1970', '1970s', '1971', '1972', '1973', '1974', '1975', '1976', '1977', '1978', '1979', '197bn', '198', '1980', '1980s', '1981', '1982', '1983', '1984', '1985', '1986', '1987', '1988', '1989', '198m', '1990', '1990s', '1991', '1992', '1993', '1994', '1995', '1996', '1997', '1998', '1999', '19bn', '19m', '19secs', '19th', '1bn', '1m', '1p', '1st', '1xtra', '20', '200', '2000', '2001', '2001alleging', '2001fetched', '2002', '2003', '2004', '2005', '2006', '2007', '2008', '2009', '200bn', '200lr', '200m', '2010', '2011', '2012', '2014', '2015', '2018', '2020', '2022', '2025', '2048', '204m', '205', '2050', '206m', '20bn', '20c', '20gb', '20m', '20mbps', '20p', '20s', '20th', '21', '210', '2100', '2100gmt', '211', '216', '217', '219', '21bn', '21m', '21st', '22', '220', '2200', '220m', '2230gmt', '224', '225', '226', '227', '22bn', '22m', '22nd', '23', '230', '2300', '230bn', '230m', '231m', '233', '2340', '234m', '239', '23bn', '23m', '23rd', '24', '240', '246', '246bn', '247p', '24bn', '24m', '24th', '25', '250', '2500', '250m', '253m', '256mb', '258', '258bn', '25bn', '25lb', '25m', '25p', '25s', '25th', '26', '260', '262', '266m', '267', '26m', '26th', '27', '270', '271', '271st', '272', '273', '274', '275', '276', '277th', '27bn', '27m', '27th', '28', '280', '281m', '282', '284m', '285m', '2871', '28bn', '28p', '28th', '29', '290', '290m', '291m', '292', '293', '294', '2940', '2944', '296', '2974', '29a', '29bn', '2am', '2bn', '2d3', '2ft', '2g', '2gb', '2k', '2km', '2kw', '2m', '2mbps', '2nd', '30', '300', '3000', '3006', '300bn', '300m', '300p', '301', '3040', '305', '305m', '306', '308m', '30ft', '30gb', '30m', '30mg', '30mph', '30s', '31', '312', '313', '314', '318', '3187', '31bn', '31p', '32', '320', '320m', '322', '322m', '3230', '324', '325', '325m', '327', '3280', '328m', '329', '32m', '33', '331bn', '336m', '337', '339', '339m', '33bn', '34', '340', '345m', '348bn', '349', '34bn', '34th', '35', '350', '3509', '350m', '3516', '354', '35bn', '35m', '35mm', '35th', '36', '360', '364', '365m', '368bn', '36bn', '36m', '36th', '37', '370m', '372', '374m', '375', '377bn', '378', '379m', '37bn', '38', '380m', '382m', '385', '386', '387m', '38mph', '39', '392', '399', '39bn', '39m', '3ami', '3bn', '3c', '3d', '3g', '3gp', '3gsm', '3km', '3m', '3rds', '3x', '40', '400', '400m', '400th', '401', '402', '404', '407th', '40bn', '40gb', '40m', '40mbps', '40mph', '40s', '40th', '41', '412bn', '413', '415m', '418bn', '41bn', '41m', '42', '420', '424m', '425', '426m', '427bn', '428m', '429m', '42bn', '42m', '42nd', '43', '434m', '436', '43m', '44', '440', '443m', '444', '44bn', '44th', '45', '450', '451m', '455', '458', '45bn', '45pm', '45secs', '45th', '46', '464', '466', '469', '46m', '46secs', '47', '472bn', '474', '475m', '479m', '47bn', '47m', '48', '480', '480m', '481', '4850', '486', '487', '488', '48bn', '48m', '48th', '49', '499', '499m', '4bn', '4cast', '4cm', '4gb', '4ghz', '4in', '4km', '4m', '4p', '4pm', '4th', '4x100m', '50', '500', '5000', '500m', '505', '506m', '508m', '50gb', '50m', '50mg', '50pc', '50th', '51', '510m', '512', '512m', '512mb', '514m', '51bn', '51secs', '52', '520', '521', '522', '527', '529', '52m', '52nd', '53', '530', '532m', '535', '537bn', '538', '53bn', '53m', '53p', '54', '540bn', '540m', '542', '544', '546', '546m', '548p', '54bn', '54m', '54th', '55', '550', '550m', '555', '55bn', '55s', '56', '568m', '569', '569m', '56bn', '56m', '57', '570', '575', '57bn', '58', '581m', '584m', '59', '590', '59th', '5bn', '5g', '5gb', '5ive', '5k', '5m', '5p', '60', '600', '600m', '601', '603', '605', '607', '60bn', '60m', '60p', '60s', '60secs', '60th', '61', '610m', '61km', '61m', '61st', '62', '625', '62secs', '63', '630', '630m', '635', '639m', '63m', '63rd', '63secs', '64', '642', '644m', '645', '648m', '64secs', '65', '650', '65bn', '65s', '66', '660', '6600', '661', '666', '667', '66bn', '66m', '66secs', '67', '6709', '674', '67th', '68', '680', '684bn', '68m', '68seconds', '69', '690', '690m', '691m', '692', '6bn', '6ft', '6gb', '6ghz', '6km', '6m', '6pm', '70', '700', '705m', '70m', '70p', '70s', '70th', '71', '713', '717', '717m', '719m', '72', '72m', '73', '732m', '733', '737', '738', '73m', '74', '740', '745', '74m', '74th', '75', '750', '750m', '755', '75bn', '75m', '75p', '75s', '76', '761m', '767', '77', '7710', '775', '775m', '777', '77bn', '77th', '78', '780', '784m', '785m', '787', '78bn', '79', '796', '797p', '799', '79m', '79p', '79th', '7bn', '7m', '80', '800', '800m', '805', '808', '808m', '80bn', '80gb', '80m', '80mg', '80p', '80s', '81', '813', '814', '81st', '82', '825', '82bn', '83', '830bn', '831', '833', '836m', '838m', '838th', '84', '840', '84th', '85', '850', '850m', '855bn', '857m', '85m', '86', '861m', '865', '86bn', '86m', '86th', '87', '870', '873p', '874', '875', '88', '88m', '88th', '89', '8923', '89bn', '89m', '89secs', '89th', '8am', '8bn', '8ghz', '8m', '8mbps', '90', '900', '900m', '901m', '902', '907', '90m', '90s', '90th', '91', '910m', '912km', '915', '91m', '92', '920', '922', '925p', '9276', '93', '931m', '933m', '939', '93rd', '94', '940', '95', '950', '950m', '950p', '953', '957', '95bn', '95m', '96', '960m', '961', '966m', '96bn', '97', '971', '975', '97bn', '97m', '98', '981', '984m', '98m', '98th', '99', '997', '999', '999th', '9bn', '9km', '9m', 'a300s', 'a320', 'a380', 'a380s', 'a4', 'aa', 'aaa', 'aaas', 'aadc', 'aaltra', 'aamir', 'aaron', 'abacus', 'abandon', 'abandoned', 'abandoning', 'abandonment', 'abating', 'abba', 'abbas', 'abbasi', 'abbott', 'abbreviated', 'abc', 'abd', 'abdellatif', 'abdication', 'abdomen', 'abdominal', 'abdullah', 'abdullatif', 'abebe', 'aberdeen', 'aberration', 'abeyance', 'abeyie', 'abhorrent', 'abi', 'abide', 'abided', 'abiding', 'abigail', 'abilities', 'ability', 'abish', 'able', 'abn', 'abnormal', 'abnormality', 'abolish', 'abolishing', 'abolition', 'aborted', 'abortion', 'abortionist', 'abortive', 'abramovich', 'abroad', 'abrupt', 'absa', 'absence', 'absent', 'absentee', 'absolute', 'absolutely', 'absolution', 'absorb', 'absorbed', 'absorbing', 'absorbs', 'abstain', 'abstentions', 'absurd', 'abtahi', 'abu', 'abundance', 'abundantly', 'aburizal', 'abuse', 'abused', 'abuses', 'abusing', 'abusive', 'abut', 'abuzz', 'abysmal', 'ac', 'academic', 'academics', 'academie', 'academies', 'academy', 'acapulco', 'acc', 'accelerate', 'accelerated', 'accelerating', 'acceleration', 'accent', 'accept', 'acceptable', 'acceptance', 'acceptances', 'accepted', 'accepting', 'accepts', 'access', 'accessed', 'accessible', 'accessing', 'accession', 'accessory', 'accident', 'accidental', 'accidentally', 'accidently', 'accidents', 'acclaim', 'acclaimed', 'acclimate', 'acclimatise', 'accolade', 'accolades', 'accommodate', 'accommodated', 'accommodation', 'accompanied', 'accompaniment', 'accompany', 'accompanying', 'accomplice', 'accomplices', 'accomplish', 'accomplished', 'accomplishment', 'accord', 'accordance', 'according', 'accordingly', 'accosiation', 'account', 'accountability', 'accountable', 'accountancy', 'accountant', 'accountants', 'accounted', 'accounting', 'accounts', 'accoustic', 'accra', 'accredited', 'accretive', 'accumulate', 'accumulated', 'accumulates', 'accuracy', 'accurate', 'accurately', 'accusation', 'accusations', 'accuse', 'accused', 'accusing', 'accustomed', 'ace', 'aceh', 'aces', 'achievable', 'achieve', 'achieved', 'achievement', 'achievements', 'achieving', 'achilles', 'achtung', 'acknowledge', 'acknowledged', 'acknowledges', 'acne', 'acoustic', 'acpo', 'acquainted', 'acquiescent', 'acquire', 'acquired', 'acquiring', 'acquisition', 'acquisitions', 'acquittal', 'acquitted', 'acres', 'acrimonious', 'acrimony', 'acrobatic', 'acrobatically', 'act', 'acted', 'acting', 'action', 'actionaid', 'actions', 'activate', 'activated', 'active', 'actively', 'activision', 'activison', 'activist', 'activists', 'activities', 'activity', 'actor', 'actors', 'actress', 'actresses', 'acts', 'actual', 'actually', 'acute', 'ad', 'adage', 'adair', 'adam', 'adamant', 'adamind', 'adams', 'adapt', 'adaptation', 'adaptations', 'adapted', 'adapter', 'adapting', 'adaptor', 'adarsh', 'adb', 'add', 'addaction', 'added', 'addicks', 'addictive', 'addicts', 'adding', 'addink', 'addison', 'addition', 'additional', 'additionally', 'additives', 'address', 'addressed', 'addresses', 'addressing', 'adds', 'adductor', 'adelaide', 'adequate', 'adequately', 'adera', 'adere', 'ades', 'adhere', 'adheres', 'adidas', 'adjudged', 'adjudicator', 'adjust', 'adjusted', 'adjusting', 'adjustment', 'adjustments', 'adjusts', 'administer', 'administered', 'administering', 'administration', 'administrations', 'administrative', 'administrator', 'administrators', 'admirable', 'admiration', 'admire', 'admired', 'admirer', 'admissibility', 'admission', 'admissions', 'admit', 'admits', 'admittance', 'admitted', 'admittedly', 'admitting', 'admonished', 'adnan', 'adolescent', 'adolf', 'adopt', 'adopted', 'adopters', 'adopting', 'adoption', 'adornments', 'adrian', 'adriano', 'adriatic', 'adroit', 'ads', 'adsense', 'adsl', 'adulation', 'adult', 'adultery', 'adulthood', 'adults', 'advance', 'advanced', 'advancement', 'advances', 'advancing', 'advanta', 'advantage', 'advantages', 'advent', 'adventure', 'adventures', 'adventurous', 'adverse', 'adversely', 'adversity', 'advert', 'advertise', 'advertisements', 'advertiser', 'advertisers', 'advertising', 'adverts', 'advice', 'advise', 'advised', 'adviser', 'advisers', 'advises', 'advising', 'advisor', 'advisors', 'advisory', 'advocate', 'advocated', 'advocates', 'adware', 'ae', 'aero', 'aeronautics', 'aerosmith', 'aerospace', 'aesthetic', 'aesthetically', 'aesthetics', 'affable', 'affair', 'affairs', 'affect', 'affected', 'affecting', 'affection', 'affectionately', 'affects', 'afficiandos', 'affiliate', 'affiliates', 'afflicting', 'afford', 'affordable', 'afforded', 'afghanistan', 'afi', 'afloat', 'afp', 'afraid', 'africa', 'african', 'africans', 'aftenposten', 'afterlife', 'aftermath', 'afternoon', 'aftewards', 'afzal', 'ag', 'agassi', 'age', 'aged', 'ageing', 'ageism', 'agen', 'agence', 'agencies', 'agency', 'agenda', 'agent', 'agents', 'ages', 'aggravated', 'aggravating', 'aggregate', 'aggregates', 'aggregator', 'aggregators', 'aggression', 'aggressive', 'aggressively', 'aggressors', 'aggrieved', 'agility', 'aging', 'agio', 'agitated', 'agm', 'agnelli', 'agnetha', 'agnostic', 'ago', 'agoa', 'agonising', 'agonisingly', 'agree', 'agreeable', 'agreed', 'agreeing', 'agreement', 'agreements', 'agrees', 'agricultural', 'agriculture', 'agrochemical', 'agroflora', 'aguilera', 'agustin', 'agyemang', 'ah', 'ahead', 'ahern', 'ahmed', 'ahold', 'ai', 'aid', 'aidan', 'aide', 'aided', 'aiden', 'aides', 'aids', 'aig', 'ailing', 'aim', 'aimed', 'aiming', 'aimlessly', 'aims', 'aiport', 'air', 'airbrushes', 'airbus', 'aircraft', 'aired', 'aires', 'airing', 'airline', 'airliner', 'airliners', 'airlines', 'airplane', 'airplanes', 'airplay', 'airport', 'airports', 'airs', 'airtime', 'airways', 'aishwariya', 'aishwarya', 'aisle', 'aitken', 'aiyegbeni', 'aizlewood', 'aj', 'ajax', 'ak', 'aka', 'akaev', 'akamai', 'akhmetov', 'akin', 'al', 'alabama', 'aladdin', 'alain', 'alamos', 'alan', 'alarm', 'alarmed', 'alarming', 'alarmingly', 'alarms', 'alasdair', 'alastair', 'albacete', 'albania', 'albanian', 'albany', 'albee', 'albeit', 'albert', 'alberto', 'albion', 'album', 'albums', 'alcatel', 'alcobev', 'alcohol', 'alcoholism', 'alcorn', 'alda', 'ale', 'alegre', 'alejandro', 'alert', 'alerted', 'alerts', 'alessandro', 'alex', 'alexander', 'alexandra', 'alexandria', 'alexei', 'alfa', 'alfie', 'alfonso', 'alfred', 'algemeen', 'algeria', 'algerian', 'algorithm', 'algorithms', 'ali', 'alias', 'aliases', 'alice', 'alicia', 'alien', 'alienated', 'aliens', 'alight', 'aligned', 'alike', 'alison', 'alistair', 'alita', 'alive', 'allaire', 'allan', 'allander', 'allard', 'allardyce', 'allawi', 'allay', 'allegation', 'allegations', 'allege', 'alleged', 'allegedly', 'alleges', 'allegiance', 'allegiances', 'alleging', 'allen', 'allende', 'alleviate', 'alley', 'alleyne', 'alli', 'alliance', 'alliances', 'allianz', 'allied', 'allies', 'allister', 'allocated', 'allocation', 'allocations', 'allow', 'allowance', 'allowances', 'allowed', 'allowing', 'allows', 'allsop', 'alltel', 'alludes', 'alluding', 'allure', 'ally', 'almagro', 'almeria', 'almodovar', 'almunia', 'alois', 'alongside', 'aloud', 'alphabet', 'alphabetically', 'alphabets', 'altavista', 'alter', 'altered', 'altering', 'alternative', 'alternatively', 'alternatives', 'altogether', 'aluminium', 'alumnia', 'alvin', 'alwaleed', 'alwi', 'alyona', 'alzheimer', 'am3d', 'amadeo', 'amalric', 'amanda', 'amassed', 'amateur', 'amateurish', 'amateurs', 'amaya', 'amazed', 'amazes', 'amazing', 'amazingly', 'amazon', 'ambassador', 'ambassadors', 'amber', 'ambev', 'ambient', 'ambition', 'ambitions', 'ambitious', 'ambo', 'ambuja', 'ambushed', 'amd', 'amelia', 'amelie', 'amenabar', 'amend', 'amended', 'amending', 'amendment', 'amendments', 'amends', 'amenity', 'ameobi', 'america', 'american', 'americanised', 'americans', 'americas', 'ames', 'amey', 'amf', 'amibition', 'amibitions', 'amicable', 'amicably', 'amicus', 'amid', 'amidst', 'amiga', 'amin', 'amitabh', 'amma', 'amman', 'amnesty', 'amoah', 'amoeba', 'amounted', 'amounting', 'amounts', 'ampas', 'amplification', 'amplified', 'amplifier', 'amplifies', 'amplify', 'amply', 'amputated', 'amputee', 'amputees', 'amr', 'amritsar', 'amro', 'amsterdam', 'amuro', 'amusing', 'amy', 'anakin', 'analgesic', 'analogue', 'analogy', 'analysed', 'analysing', 'analysis', 'analyst', 'analysts', 'analyzing', 'anastacia', 'anastasia', 'anatoly', 'anatomical', 'ancestors', 'anchor', 'ancic', 'ancient', 'ancillary', 'ancram', 'anderlecht', 'anders', 'andersen', 'anderson', 'andersson', 'anderton', 'andhra', 'andi', 'andre', 'andrea', 'andreas', 'andreev', 'andrei', 'andrew', 'andrews', 'andy', 'anelka', 'aneurysm', 'anfield', 'angadias', 'angel', 'angela', 'angeles', 'angelina', 'angels', 'anger', 'angered', 'angering', 'angie', 'angle', 'angled', 'anglers', 'anglesea', 'anglia', 'anglian', 'anglicans', 'angling', 'anglo', 'angola', 'angrily', 'angry', 'angus', 'anheuser', 'animal', 'animals', 'animate', 'animated', 'animation', 'animations', 'animator', 'animators', 'animosity', 'aniston', 'anita', 'ankara', 'ankle', 'ann', 'anna', 'annabelle', 'annadale', 'annals', 'annan', 'anne', 'annette', 'anni', 'annie', 'anniversary', 'annoucement', 'announce', 'announced', 'announcement', 'announcements', 'announces', 'announcing', 'annoyance', 'annoyingly', 'annoys', 'annual', 'annualised', 'annually', 'annuity', 'annul', 'annum', 'annus', 'anoeta', 'anomalies', 'anomaly', 'anonymity', 'anonymous', 'anonymously', 'anouncing', 'anselmo', 'ansheng', 'anshuman', 'anson', 'answer', 'answered', 'answers', 'ant', 'antagonistic', 'ante', 'antenna', 'anthemic', 'anthony', 'anti', 'antibacterial', 'anticipate', 'anticipated', 'anticipating', 'anticipation', 'antics', 'antique', 'antiques', 'antiseptics', 'antithesis', 'antitrust', 'antoine', 'anton', 'antonia', 'antonio', 'antony', 'antrim', 'antwerp', 'anurag', 'anxious', 'anybody', 'anyhting', 'anymore', 'aol', 'ap', 'apace', 'apache', 'apacs', 'apalling', 'apart', 'apartheid', 'apathetic', 'apathy', 'apcom', 'apiece', 'aplomb', 'apollo', 'apologise', 'apologised', 'apologising', 'apology', 'appalled', 'appalling', 'apparatus', 'apparel', 'apparent', 'apparently', 'appeal', 'appealed', 'appealing', 'appeals', 'appear', 'appearance', 'appearances', 'appeared', 'appearing', 'appears', 'appetite', 'applaud', 'applauded', 'applause', 'apple', 'appleford', 'applegate', 'apples', 'appleton', 'appliance', 'appliances', 'applicant', 'applicants', 'application', 'applications', 'applied', 'applies', 'apply', 'applying', 'appoint', 'appointed', 'appointment', 'appointments', 'appoints', 'appraisal', 'appraising', 'appreciably', 'appreciate', 'appreciated', 'appreciation', 'apprehension', 'apprentices', 'apprenticeship', 'approach', 'approached', 'approaches', 'approaching', 'appropriate', 'appropriately', 'approval', 'approvals', 'approve', 'approved', 'approves', 'approximately', 'apps', 'april', 'aquarius', 'aquatic', 'aquilla', 'ar', 'arab', 'arabia', 'arabian', 'arafat', 'aragones', 'aramaic', 'aramburu', 'arash', 'arbitrarily', 'arbitrary', 'arbitration', 'arbuckle', 'arcade', 'arcelor', 'arch', 'archaeological', 'archangel', 'archbishop', 'archer', 'archibald', 'architect', 'architecture', 'archive', 'archived', 'archives', 'archivists', 'archos', 'arcleor', 'arcy', 'ard', 'ardent', 'arditti', 'area', 'areas', 'areen', 'aren', 'arena', 'arenas', 'argentina', 'argentine', 'argonaut', 'arguably', 'argue', 'argued', 'argues', 'arguing', 'argument', 'argumentative', 'arguments', 'ariel', 'arise', 'arisen', 'arising', 'arizona', 'arjan', 'arjen', 'arkansas', 'arling', 'arlington', 'arm', 'armagh', 'armand', 'armando', 'armani', 'armed', 'armenians', 'armentieres', 'armes', 'armistead', 'armour', 'armoury', 'arms', 'army', 'arnaud', 'arne', 'arnesen', 'arnold', 'arnoldo', 'arnoud', 'aroused', 'arouses', 'arpey', 'arquette', 'arrange', 'arranged', 'arrangement', 'arrangements', 'array', 'arrese', 'arrest', 'arrested', 'arrests', 'arrival', 'arrivals', 'arrive', 'arrived', 'arrives', 'arriving', 'arrogance', 'arrogant', 'arrogantly', 'arsenal', 'arsene', 'arsenic', 'arsenide', 'arses', 'art', 'artery', 'arteta', 'artgarden', 'arthritis', 'arthur', 'artic', 'article', 'articles', 'articulated', 'artificial', 'artificially', 'artist', 'artistic', 'artistry', 'artists', 'artois', 'arts', 'artwork', 'artworks', 'aru', 'arvind', 'asagoe', 'asahi', 'asante', 'asbestos', 'asbestosis', 'asbos', 'ascend', 'ascending', 'ascii', 'asha', 'ashamed', 'ashanti', 'ashburton', 'ashcroft', 'ashdown', 'asher', 'ashes', 'ashfield', 'ashford', 'ashley', 'ashton', 'ashvin', 'asia', 'asian', 'asians', 'aside', 'asif', 'asimo', 'ask', 'askar', 'asked', 'asking', 'asks', 'asleep', 'aspect', 'aspects', 'asphalt', 'aspiration', 'aspiring', 'asplin', 'assad', 'assassinated', 'assassination', 'assault', 'assaulted', 'assaults', 'assembled', 'assemblies', 'assembling', 'assembly', 'assert', 'assertion', 'assertions', 'assertiveness', 'asserts', 'asses', 'assess', 'assessed', 'assesses', 'assessing', 'assessment', 'assessments', 'assessor', 'asset', 'assets', 'assigned', 'assignment', 'assigns', 'assist', 'assistance', 'assistant', 'assistants', 'assisting', 'associate', 'associated', 'associates', 'association', 'associations', 'assortment', 'assume', 'assumed', 'assumes', 'assuming', 'assumption', 'assumptions', 'assurance', 'assurances', 'assure', 'assured', 'asteroid', 'aston', 'astonished', 'astonishing', 'astonishingly', 'astoria', 'astounded', 'astra', 'astrazeneca', 'astro', 'astronaut', 'astronauts', 'asylum', 'asymmetric', 'asymmetry', 'atari', 'ate', 'athens', 'athlete', 'athletes', 'athletic', 'athleticism', 'athletico', 'athletics', 'athlon', 'atinc', 'atkinson', 'atlanta', 'atlantic', 'atlas', 'atletico', 'atmosphere', 'atmospheric', 'atms', 'atomic', 'atoms', 'atomstroieksport', 'aton', 'atp', 'att', 'attach', 'attached', 'attachment', 'attachments', 'attack', 'attacked', 'attacker', 'attackers', 'attacking', 'attacks', 'attain', 'attained', 'attainment', 'attallah', 'attempt', 'attempted', 'attempting', 'attempts', 'attend', 'attendance', 'attendances', 'attendant', 'attended', 'attendees', 'attending', 'attends', 'attention', 'attentions', 'attentive', 'atticus', 'attitude', 'attitudes', 'attlee', 'attorney', 'attract', 'attracted', 'attracting', 'attraction', 'attractions', 'attractive', 'attracts', 'attributable', 'attribute', 'attributed', 'atwood', 'au', 'auckland', 'auction', 'auctioned', 'auctioneer', 'auctions', 'audience', 'audiences', 'audio', 'audiophile', 'audiovisuel', 'audit', 'audited', 'audition', 'auditions', 'auditor', 'auditorium', 'auditors', 'audrey', 'auf', 'augment', 'augmented', 'august', 'augusto', 'aulis', 'aura', 'aurelien', 'auric', 'aurora', 'auschwitz', 'aussie', 'aussies', 'austin', 'australasia', 'australia', 'australian', 'austria', 'austrian', 'auteuil', 'authenti', 'authentic', 'authentication', 'author', 'authorial', 'authorise', 'authorised', 'authoritarian', 'authoritative', 'authorities', 'authority', 'authors', 'auto', 'autobiographical', 'autobiography', 'autocycle', 'autographs', 'autolink', 'autolinks', 'automaker', 'automated', 'automatic', 'automatically', 'automobiles', 'automotive', 'autos', 'autosport', 'autumn', 'auxerre', 'av400', 'availability', 'available', 'avalon', 'avatar', 'avatars', 'avenue', 'avenues', 'average', 'averages', 'averaging', 'avert', 'averted', 'averting', 'avery', 'avg', 'avi', 'aviation', 'aviator', 'avid', 'aviv', 'avoid', 'avoided', 'avoiding', 'avoids', 'avonex', 'avril', 'await', 'awaited', 'awaiting', 'awaits', 'awakening', 'award', 'awarded', 'awarding', 'awards', 'aware', 'awareness', 'away', 'awe', 'awesome', 'awfully', 'awkward', 'awol', 'axa', 'axe', 'axed', 'axing', 'ayaan', 'aycock', 'aymone', 'aynsley', 'azkaban', 'azmat', 'aznavour', 'aztrazeneca', 'azzam', 'azzurri', 'baathist', 'babacan', 'babayaro', 'babies', 'baby', 'babyshamblers', 'babyshambles', 'babysitter', 'babysitting', 'bac', 'baccanello', 'baccarat', 'bach', 'bachchan', 'backbench', 'backbencher', 'backbenchers', 'backbenches', 'backbone', 'backdated', 'backdoor', 'backdrop', 'backed', 'backer', 'backers', 'backfired', 'backfires', 'backfiring', 'background', 'backgrounds', 'backhand', 'backhands', 'backing', 'backlash', 'backley', 'backline', 'backpack', 'backroom', 'backs', 'backside', 'backsides', 'backsliding', 'backstage', 'backstreet', 'backtrack', 'backward', 'backwards', 'backyard', 'bacon', 'bad', 'badge', 'badly', 'badminton', 'bae', 'bafana', 'baffled', 'bafin', 'bafta', 'baftas', 'bag', 'baggage', 'bagged', 'baggins', 'baghdad', 'bagle', 'baglihar', 'bagpuss', 'bags', 'baha', 'bahamas', 'baht', 'baikal', 'bail', 'bailed', 'bailey', 'bailiffs', 'bailin', 'bailout', 'bailouts', 'bainivalu', 'baiting', 'baker', 'bakersfield', 'bakley', 'bakrie', 'balado', 'balance', 'balanced', 'balances', 'balancing', 'balco', 'balde', 'baldini', 'baldrick', 'balfour', 'balkan', 'balkans', 'balked', 'ball', 'ballad', 'ballantine', 'ballboy', 'ballerina', 'ballerinas', 'ballet', 'ballets', 'balloon', 'ballooned', 'ballooning', 'ballot', 'balloted', 'balloting', 'ballots', 'ballroom', 'balls', 'ballymena', 'balmer', 'balmy', 'baltasar', 'bamboozled', 'ban', 'bana', 'banana', 'banca', 'band', 'bandaid', 'banded', 'banderas', 'bandmates', 'bands', 'bandwagon', 'bandwidth', 'bangaldesh', 'bangalore', 'banging', 'bangkok', 'bangladesh', 'bangladeshi', 'bangs', 'banished', 'bank', 'bankash', 'banked', 'banker', 'bankers', 'banking', 'bankroll', 'bankrupt', 'bankruptcy', 'banks', 'bannatyne', 'banned', 'banner', 'banning', 'banos', 'banque', 'banques', 'banquet', 'bans', 'banter', 'banton', 'baoshan', 'bar', 'barbados', 'barbara', 'barbarians', 'barber', 'barbini', 'barbra', 'barca', 'barcelona', 'barclay', 'barclays', 'barcode', 'bare', 'barely', 'baretta', 'bargain', 'bargains', 'barged', 'baring', 'barings', 'bark', 'barkley', 'barley', 'barlow', 'barn', 'barnes', 'barnett', 'barney', 'barometer', 'baroness', 'baros', 'barosso', 'barr', 'barras', 'barred', 'barrel', 'barrels', 'barrick', 'barrier', 'barriers', 'barring', 'barrioneuvo', 'barrionuevo', 'barron', 'barroso', 'barrow', 'barry', 'barrymore', 'bars', 'bartering', 'bartlett', 'bartoli', 'barton', 'barwick', 'bas', 'base', 'baseball', 'based', 'basel', 'baseline', 'basement', 'bases', 'bash', 'bashing', 'basic', 'basically', 'basics', 'basing', 'basingstoke', 'basis', 'basketball', 'baskin', 'basking', 'basque', 'basquiat', 'basra', 'bass', 'bassist', 'bastille', 'bat', 'batch', 'batches', 'bateman', 'bates', 'bath', 'bathroom', 'batie', 'batistuta', 'batman', 'battalion', 'batter', 'battered', 'batteries', 'battery', 'battle', 'battled', 'battlefield', 'battlefronts', 'battleground', 'battlegrounds', 'battles', 'battleship', 'battlestar', 'battling', 'baweja', 'baxter', 'bay', 'bayer', 'bayern', 'bays', 'bb', 'bba', 'bbb', 'bbc', 'bbc1', 'bbc2', 'bbci', 'bcc', 'bdo', 'beach', 'beaches', 'beacon', 'beads', 'beam', 'beamed', 'bean', 'bear', 'bearded', 'beardsley', 'bearer', 'bearing', 'bears', 'beast', 'beastie', 'beat', 'beatable', 'beaten', 'beating', 'beatings', 'beatle', 'beatles', 'beats', 'beattie', 'beatty', 'beaudoin', 'beaufort', 'beaumont', 'beautiful', 'beautifully', 'beauty', 'beauvillain', 'beauvillian', 'bebo', 'bechtel', 'bechtler', 'beck', 'beckham', 'beckinsale', 'beckons', 'bed', 'bedding', 'bedell', 'bedford', 'bedfordshire', 'bedingfield', 'bedroom', 'beds', 'bedside', 'bedsits', 'bee', 'beef', 'beefing', 'beenie', 'beer', 'beermaker', 'beers', 'bees', 'began', 'begg', 'begging', 'begin', 'beginning', 'beginnings', 'begins', 'begrudge', 'begun', 'beh', 'behalf', 'behave', 'behaved', 'behaving', 'behaviour', 'behavioural', 'beheaded', 'behemoth', 'beige', 'beijing', 'beijingers', 'beileve', 'beings', 'beirut', 'beith', 'bejewelled', 'bekele', 'belafonte', 'belarus', 'beleaguered', 'belfast', 'belgian', 'belgians', 'belgium', 'belgrade', 'belief', 'beliefs', 'believable', 'believe', 'believed', 'believes', 'believing', 'belisha', 'bell', 'bellamy', 'belle', 'bellicose', 'bellion', 'bells', 'belly', 'belmar', 'belmarsh', 'belong', 'belonged', 'belonging', 'belongings', 'belongs', 'beloved', 'belsen', 'belt', 'bemand', 'ben', 'benazir', 'bench', 'benches', 'benchmark', 'benchmarking', 'benchmarks', 'benckiser', 'bend', 'beneficial', 'beneficiaries', 'benefit', 'benefited', 'benefiting', 'benefits', 'benesova', 'benign', 'bening', 'benita', 'benitez', 'benjamin', 'benmosche', 'benn', 'bennallack', 'bennett', 'bennington', 'benny', 'benoit', 'bent', 'benz', 'berated', 'berdych', 'bereft', 'beresford', 'bergamasco', 'berger', 'bergerac', 'bergkamp', 'berhane', 'beringer', 'berkeley', 'berkovic', 'berlin', 'berlinale', 'berlusconi', 'berman', 'bernabeu', 'bernal', 'bernard', 'bernardo', 'bernath', 'bernd', 'bernie', 'berry', 'bershawn', 'berson', 'bert', 'bertelsmann', 'berth', 'berthinussen', 'berti', 'bertie', 'bertolucci', 'beset', 'bespoke', 'best', 'bestow', 'bestseller', 'bestsellers', 'bestselling', 'bet', 'beta', 'betamax', 'beth', 'bethan', 'bethnal', 'betray', 'betrayal', 'betrayed', 'betraying', 'bets', 'betsen', 'better', 'bettered', 'betting', 'betts', 'beverley', 'beverly', 'bewildered', 'bewildering', 'bewlay', 'bex', 'beynon', 'beyonce', 'bez', 'bhanu', 'bharti', 'bhi', 'bhp', 'bhutto', 'bi', 'biarritz', 'bias', 'biased', 'bible', 'biblical', 'bibliographies', 'bickering', 'bicycles', 'bid', 'bidder', 'bidders', 'bidding', 'bide', 'bids', 'bifa', 'big', 'bigger', 'biggest', 'bigotry', 'bike', 'bilateral', 'bilingual', 'biljon', 'billboard', 'billboards', 'billed', 'billing', 'billion', 'billionaire', 'billions', 'billiton', 'bills', 'billy', 'bin', 'binding', 'binge', 'bingham', 'bingley', 'bingo', 'binned', 'binoche', 'bins', 'bio', 'biocidal', 'biogen', 'biographer', 'biography', 'biological', 'biology', 'biometric', 'biometrics', 'biopic', 'biotech', 'bipedal', 'birch', 'birchfield', 'bird', 'birkett', 'birmingham', 'birth', 'birthday', 'birthdays', 'birthistle', 'biscan', 'biscuit', 'bisected', 'bisexual', 'bisexuality', 'bishop', 'bishops', 'bisnis', 'bisset', 'bit', 'bite', 'bits', 'bitter', 'bittersweet', 'bittorrent', 'biz', 'bizarre', 'bizet', 'bjorgo', 'bjorkman', 'bjorn', 'black', 'blackadder', 'blackberries', 'blackberry', 'blackburn', 'blacklists', 'blackmail', 'blackmailed', 'blackman', 'blackpool', 'blacks', 'blackwatch', 'blade', 'blair', 'blairite', 'blairs', 'blake', 'blame', 'blamed', 'blames', 'blaming', 'blanchard', 'blanche', 'blanchett', 'bland', 'blank', 'blass', 'blast', 'blasted', 'blasts', 'blatant', 'blaze', 'blazed', 'blazers', 'blazin', 'blazing', 'blb', 'bleached', 'bleak', 'bleakest', 'bleakly', 'blears', 'bleep', 'bleeps', 'blemish', 'blend', 'blending', 'bless', 'blessed', 'blessing', 'blethyn', 'blew', 'blige', 'blighted', 'blighting', 'blind', 'blindingly', 'blinked', 'blinkx', 'blinx', 'blip', 'blistering', 'blisters', 'blitz', 'blizzard', 'bloc', 'block', 'blockbuster', 'blockbusters', 'blocked', 'blocking', 'blocks', 'blog', 'blogged', 'blogger', 'bloggers', 'blogging', 'bloglines', 'blogosphere', 'blogs', 'blogsphere', 'bloke', 'blom', 'blomefontein', 'blood', 'bloodline', 'bloody', 'bloom', 'bloomberg', 'blow', 'blowers', 'blown', 'blows', 'blu', 'blue', 'bluephone', 'blueprint', 'blueprints', 'blues', 'bluetooth', 'bluewater', 'blunkett', 'blunt', 'blur', 'blurred', 'blurring', 'blurs', 'blushes', 'blushing', 'blustery', 'blythe', 'bmg', 'bmo', 'bmr', 'bmw', 'bn', 'bnp', 'bo', 'board', 'boarding', 'boardroom', 'boardrooms', 'boards', 'boast', 'boasted', 'boasts', 'boat', 'boateng', 'boats', 'bob', 'bobbitt', 'bobby', 'bobs', 'boca', 'bod', 'bode', 'bodes', 'bodied', 'bodies', 'bodinat', 'bodleian', 'body', 'bodyguard', 'boe', 'boeing', 'boerse', 'bofra', 'bogart', 'bogdanov', 'bogdanovic', 'bogota', 'boi', 'boil', 'boiled', 'boiler', 'boils', 'boix', 'boks', 'bold', 'bolder', 'bollan', 'bollesan', 'bollywood', 'bolster', 'bolted', 'bolton', 'bolts', 'bomb', 'bombard', 'bombarded', 'bombardier', 'bombards', 'bombastic', 'bombay', 'bombing', 'bombings', 'bombs', 'bon', 'bona', 'bonar', 'bond', 'bondarenko', 'bonderman', 'bondholders', 'bondi', 'bonds', 'bondy', 'bone', 'bones', 'bonfire', 'bonham', 'bonn', 'bonnaire', 'bonnie', 'bonny', 'bono', 'bonus', 'bonuses', 'boo', 'boogeyman', 'book', 'booked', 'booker', 'booking', 'bookings', 'bookmaker', 'bookmakers', 'bookrunners', 'books', 'booksellers', 'bookshelves', 'boom', 'boomed', 'booming', 'booms', 'boost', 'boosted', 'boosting', 'boosts', 'boot', 'booted', 'booth', 'bootle', 'boots', 'booy', 'booz', 'booze', 'border', 'borders', 'bordesley', 'bore', 'bored', 'boring', 'boris', 'born', 'borne', 'boro', 'borough', 'borrell', 'borrow', 'borrowed', 'borrowers', 'borrowing', 'bortey', 'borthwick', 'bortolami', 'borussia', 'boscholt', 'bosphorus', 'boss', 'bosses', 'bossy', 'boston', 'bosvelt', 'bosworth', 'bot', 'botch', 'botha', 'bother', 'bothered', 'bots', 'botswana', 'bottle', 'bottled', 'bottlenecks', 'bottles', 'boudewijn', 'bought', 'boukar', 'boulevard', 'bounce', 'bounced', 'bouncers', 'bouncing', 'bound', 'boundaries', 'boundary', 'bounded', 'bounty', 'bouquets', 'bourgoin', 'bourn', 'bourne', 'bournemouth', 'bourse', 'bout', 'bovina', 'bow', 'bowden', 'bowe', 'bowers', 'bowie', 'bowl', 'bowles', 'bowman', 'bows', 'box', 'boxer', 'boxes', 'boxing', 'boy', 'boyd', 'boyfriend', 'boyfriends', 'boyko', 'boynton', 'boys', 'boyzone', 'bozzi', 'bp', 'bpd', 'bpi', 'br', 'brabeck', 'brace', 'braced', 'bracelet', 'bracing', 'bracket', 'bracknell', 'brad', 'bradfield', 'bradford', 'bradley', 'bradshaw', 'brady', 'braff', 'brag', 'bragging', 'braille', 'brain', 'brainchild', 'brains', 'brainwave', 'brainwaves', 'brake', 'brakes', 'braking', 'bramham', 'branch', 'branches', 'brand', 'branded', 'branding', 'brando', 'brandon', 'brands', 'brandy', 'brankin', 'brannen', 'branson', 'brass', 'bratman', 'bravado', 'brave', 'braved', 'bravely', 'bravery', 'bravest', 'brawn', 'brazenly', 'brazil', 'brazilian', 'brazilians', 'brc', 'breach', 'breached', 'breaches', 'breaching', 'bread', 'breadline', 'breadth', 'break', 'breakdown', 'breakdowns', 'breakers', 'breakfast', 'breaking', 'breakneck', 'breaks', 'breakthrough', 'breast', 'breath', 'breathalysed', 'breathe', 'breathed', 'breathing', 'breathtaking', 'brebner', 'breed', 'breeding', 'breezes', 'bremen', 'brenda', 'brendan', 'brennan', 'brent', 'brentford', 'brett', 'breville', 'brewer', 'breweries', 'brewers', 'brewery', 'brewing', 'breyer', 'brian', 'bribe', 'bribery', 'bribes', 'bribing', 'brick', 'bricks', 'bride', 'bridge', 'bridgehead', 'bridges', 'bridget', 'bridgewell', 'brie', 'brief', 'briefcase', 'briefed', 'briefers', 'briefing', 'briefings', 'briefly', 'brien', 'brigade', 'bright', 'brightcove', 'brighten', 'brighter', 'brightest', 'brightly', 'brightmail', 'brighton', 'brigitte', 'brilliance', 'brilliant', 'brilliantly', 'brimming', 'brindley', 'bring', 'bringing', 'brings', 'brink', 'brisbane', 'bristol', 'brit', 'britain', 'britains', 'britannia', 'british', 'britishness', 'britney', 'britneys', 'briton', 'britons', 'britpop', 'brits', 'britten', 'britton', 'britz', 'brive', 'brixton', 'brizzel', 'broad', 'broadband', 'broadcast', 'broadcaster', 'broadcasters', 'broadcasting', 'broadcasts', 'broaden', 'broadened', 'broader', 'broadly', 'broadreach', 'broadsheet', 'broadside', 'broadus', 'broadway', 'broccoli', 'brockstein', 'broes', 'brokaw', 'broke', 'broken', 'broker', 'brokerage', 'brokerages', 'brokers', 'broking', 'brolin', 'brom', 'bromesberrow', 'bromsgrove', 'bromwich', 'bronchitis', 'bronze', 'bronzes', 'brooker', 'brookings', 'brooks', 'brookside', 'brookstein', 'broom', 'bros', 'brosnan', 'brothels', 'brother', 'brotherhood', 'brothers', 'brought', 'brown', 'browne', 'brownie', 'brownite', 'brownlees', 'brownsville', 'brownsword', 'browse', 'browsed', 'browser', 'browsers', 'browses', 'browsing', 'bruce', 'bruer', 'bruins', 'bruised', 'bruises', 'bruising', 'brunei', 'brunini', 'bruno', 'brunswick', 'brusca', 'brush', 'brushed', 'brushes', 'brussels', 'brutal', 'brutally', 'brute', 'bryan', 'bryce', 'bryn', 'bryson', 'bsa', 'bse', 'bskyb', 'bsl', 'bst', 'bt', 'bubble', 'bubbles', 'bubbling', 'buccaneer', 'buccaneers', 'buck', 'bucking', 'buckingham', 'buckinghamshire', 'buckland', 'buckling', 'bucks', 'bud', 'budapest', 'budd', 'buddy', 'budge', 'budget', 'budgeted', 'budgets', 'buds', 'buena', 'buenos', 'buerk', 'buffel', 'buffers', 'buffs', 'bug', 'bugs', 'build', 'builder', 'builders', 'building', 'buildings', 'builds', 'buildyourown', 'built', 'buju', 'bulb', 'bulbs', 'bulgaria', 'bulgarian', 'bulging', 'bulk', 'bulky', 'bull', 'bullet', 'bulletin', 'bulletins', 'bullets', 'bullfighter', 'bullish', 'bulloch', 'bullock', 'bulls', 'bully', 'bullying', 'bump', 'bumped', 'bumper', 'bumping', 'bumps', 'bunch', 'bundesbank', 'bundle', 'bundled', 'bundling', 'bungie', 'bunker', 'bunnymen', 'bunuel', 'buoy', 'buoyant', 'buoyed', 'buoying', 'bupa', 'burberry', 'burchill', 'burden', 'burdensome', 'bureau', 'bureaucracy', 'bureaucratic', 'bureaucratism', 'bureaucrats', 'burgas', 'burgeoning', 'burger', 'burgess', 'burglar', 'burglary', 'burgle', 'buried', 'buries', 'burka', 'burke', 'burn', 'burner', 'burnett', 'burning', 'burnish', 'burnley', 'burnout', 'burns', 'burrell', 'burrow', 'bursary', 'burst', 'bursting', 'burstow', 'bursts', 'burt', 'burying', 'bus', 'buscemi', 'busch', 'bush', 'bushtucker', 'busier', 'busiest', 'business', 'businesses', 'businessman', 'businessmen', 'bust', 'busted', 'busy', 'butcher', 'bute', 'butler', 'butlers', 'butragueno', 'buts', 'butt', 'butterflies', 'butters', 'butting', 'buttnumbathon', 'button', 'buttons', 'buy', 'buyback', 'buybacks', 'buyer', 'buyers', 'buying', 'buyout', 'buys', 'buzz', 'buzzing', 'buzzwords', 'bye', 'byline', 'bypass', 'bypassed', 'bypassing', 'byrne', 'byron', 'bysshe', 'c4', 'ca', 'caan', 'caballeros', 'cabin', 'cabinet', 'cabinets', 'cabir', 'cable', 'cables', 'caborn', 'cache', 'cachet', 'cactus', 'cadbury', 'cadena', 'cadle', 'cadmium', 'caf', 'cafe', 'cafes', 'cafod', 'cage', 'cagigal', 'cahill', 'caillet', 'caire', 'cairn', 'cairo', 'cake', 'calculate', 'calculated', 'calculations', 'calculator', 'calcutta', 'calder', 'caldwell', 'caledonian', 'calendar', 'calf', 'calibre', 'calico', 'california', 'calisto', 'callaghan', 'called', 'calleri', 'callers', 'calling', 'callow', 'calls', 'calm', 'calmer', 'calming', 'calorie', 'calum', 'calvin', 'calvisano', 'calyon', 'camara', 'camaraderie', 'camberley', 'cambiemos', 'cambodia', 'cambridge', 'cambridgeshire', 'camcorder', 'camcorders', 'camden', 'came', 'cameo', 'camera', 'cameras', 'cameron', 'cameroon', 'cameroonians', 'camilla', 'camille', 'camp', 'campaign', 'campaigned', 'campaigner', 'campaigners', 'campaigning', 'campaigns', 'campbell', 'camped', 'campell', 'camps', 'cams', 'canada', 'canadian', 'canal', 'canale', 'canaries', 'canary', 'canas', 'cancel', 'cancellation', 'cancellations', 'cancelled', 'cancelling', 'cancels', 'cancer', 'candela', 'candid', 'candidate', 'candidates', 'candidly', 'candillon', 'cannabidiol', 'cannabis', 'canned', 'cannes', 'cannibalism', 'cannibals', 'cannings', 'canny', 'canopy', 'cans', 'cantalupo', 'canterbury', 'cantona', 'canvas', 'canvass', 'canvassers', 'canvassing', 'canyon', 'cao', 'caouette', 'cap', 'capabilities', 'capability', 'capable', 'capacities', 'capacity', 'cape', 'capella', 'capellas', 'caper', 'capgemini', 'capital', 'capitalisation', 'capitalise', 'capitalised', 'capitalising', 'capitol', 'capitulate', 'capleton', 'capped', 'capping', 'capra', 'capriati', 'caprice', 'caps', 'capt', 'captain', 'captaincy', 'captained', 'captaining', 'captains', 'caption', 'captioning', 'captivated', 'captivity', 'capture', 'captured', 'captures', 'capturing', 'car', 'cara', 'caramel', 'carat', 'caravan', 'carbon', 'carbonated', 'card', 'carded', 'carderplanet', 'cardiff', 'cards', 'cardwell', 'care', 'career', 'careers', 'careful', 'carefully', 'careless', 'carer', 'carers', 'cares', 'caretaker', 'carey', 'carfax', 'carib', 'caribbean', 'caribs', 'caricatures', 'caring', 'carl', 'carla', 'carling', 'carlish', 'carlisle', 'carlo', 'carlos', 'carlsen', 'carly', 'carmaker', 'carmakers', 'carmaking', 'carman', 'carmen', 'carnival', 'carol', 'carolina', 'caroline', 'carousing', 'carpenter', 'carpet', 'carpets', 'carr', 'carragher', 'carrey', 'carrick', 'carried', 'carrier', 'carriers', 'carries', 'carroll', 'carrow', 'carry', 'carrying', 'cars', 'carsley', 'carson', 'carsten', 'carswell', 'carta', 'cartagena', 'carte', 'cartel', 'carter', 'carthy', 'cartilage', 'cartoon', 'cartoons', 'cartridge', 'cartridges', 'carvalho', 'carve', 'carved', 'carvel', 'carwyn', 'cas', 'casablanca', 'casalme', 'case', 'cases', 'casey', 'cash', 'cashed', 'casino', 'casinos', 'casio', 'caspian', 'cassette', 'cast', 'castaignede', 'castaldo', 'casting', 'castle', 'castor', 'castres', 'castro', 'castrogiovanni', 'casts', 'casual', 'casualties', 'casualty', 'cat', 'catalan', 'catalina', 'catalogue', 'catalogues', 'cataloguing', 'catalysed', 'catalyst', 'catapulted', 'catastrophe', 'catastrophes', 'catch', 'catches', 'catching', 'catchy', 'cate', 'categorically', 'categories', 'categorisation', 'categorise', 'category', 'catering', 'cates', 'cathal', 'catherina', 'catherine', 'catholic', 'catholics', 'cathy', 'cats', 'catsuit', 'cattle', 'catweazle', 'catwoman', 'caudwell', 'caught', 'cauldron', 'cause', 'caused', 'causes', 'causeway', 'causing', 'caustic', 'caution', 'cautioned', 'cautions', 'cautious', 'cautiously', 'cavalcade', 'cavalier', 'cavanagh', 'cave', 'cayenne', 'cazalets', 'cb', 'cbbc', 'cbi', 'cbo', 'cbs', 'ccf', 'cctv', 'cd', 'cdp', 'cds', 'cea', 'cease', 'ceased', 'ceasefire', 'cec', 'cech', 'cecil', 'cedric', 'cegetel', 'ceiling', 'celebrate', 'celebrated', 'celebrates', 'celebrating', 'celebration', 'celebrations', 'celebrities', 'celebrity', 'celeron', 'celestine', 'celine', 'cell', 'cellery', 'cellnet', 'cells', 'celltick', 'celta', 'celtic', 'cement', 'cemented', 'cemetery', 'censor', 'censored', 'censors', 'censorship', 'cent', 'centenary', 'center', 'centimetres', 'centr', 'central', 'centralisation', 'centralise', 'centrally', 'centre', 'centred', 'centrepiece', 'centres', 'centring', 'cents', 'centuries', 'century', 'ceo', 'cepes', 'ceplak', 'cept', 'ceremonies', 'ceremony', 'ceri', 'cern', 'certain', 'certainly', 'certainty', 'certificate', 'certificates', 'certification', 'certified', 'certify', 'ces', 'cesar', 'cesars', 'cesc', 'cfa', 'cfca', 'cg', 'cga', 'cgi', 'chabal', 'chagrin', 'chain', 'chained', 'chains', 'chainsaw', 'chair', 'chaired', 'chairing', 'chairman', 'chairmanship', 'chairs', 'chairwoman', 'chakkara', 'chakrabarti', 'chalfont', 'challenge', 'challenged', 'challenger', 'challengers', 'challenges', 'challenging', 'chamber', 'chambers', 'chambre', 'champagne', 'champion', 'championing', 'champions', 'championship', 'championships', 'chancay', 'chance', 'chancellor', 'chancellors', 'chances', 'chancing', 'chandler', 'chandon', 'chang', 'change', 'changeable', 'changed', 'changeover', 'changer', 'changes', 'changi', 'changing', 'chango', 'channel', 'channels', 'chanting', 'chants', 'chaos', 'chaotic', 'chap', 'chapel', 'chaplin', 'chapman', 'chapter', 'chapters', 'character', 'characterised', 'characterises', 'characteristic', 'characteristically', 'characteristics', 'characterized', 'characters', 'charade', 'charbonnier', 'charcote', 'charge', 'charged', 'charges', 'charging', 'charing', 'charismatic', 'charitable', 'charities', 'charity', 'charlatans', 'charlene', 'charleroi', 'charles', 'charlie', 'charlize', 'charlotte', 'charlton', 'charly', 'charm', 'charming', 'charms', 'chart', 'charted', 'charter', 'chartered', 'charting', 'charts', 'charvis', 'chase', 'chased', 'chases', 'chasing', 'chassis', 'chat', 'chatham', 'chatrooms', 'chatshow', 'chatted', 'chatter', 'chauvinistic', 'chavez', 'cheadle', 'cheap', 'cheaper', 'cheapest', 'cheaply', 'cheapness', 'cheating', 'cheats', 'check', 'checked', 'checking', 'checkpoints', 'checks', 'cheeky', 'cheer', 'cheerful', 'cheering', 'cheerleader', 'cheers', 'cheese', 'cheeses', 'cheetham', 'chef', 'chela', 'chelsea', 'chelsom', 'chemical', 'chemicals', 'chemistry', 'chen', 'cheney', 'chennai', 'chepkemei', 'cheque', 'cherie', 'cherish', 'cherished', 'cherkasova', 'cherney', 'chernin', 'cheshire', 'cheslea', 'chest', 'chester', 'cheung', 'chevrolet', 'chevrontexaco', 'chi', 'chia', 'chicago', 'chicken', 'chicoine', 'chidambaram', 'chides', 'chief', 'chiefly', 'chiefs', 'chiffon', 'chiffre', 'chihwaseon', 'child', 'childcare', 'childe', 'childhood', 'childhoods', 'childishness', 'childlike', 'children', 'childrens', 'chile', 'chilean', 'chill', 'chilly', 'chin', 'china', 'chinese', 'chino', 'chip', 'chipped', 'chips', 'chirac', 'chiropractor', 'chittabrata', 'chivas', 'chocolate', 'choice', 'choices', 'choir', 'choking', 'cholesterol', 'chomsky', 'chong', 'chongqing', 'choose', 'chooses', 'choosing', 'chop', 'chopped', 'chore', 'choreographer', 'choreographers', 'choreography', 'chorlton', 'chorton', 'chorus', 'chose', 'chosen', 'chris', 'chrissie', 'christ', 'christchurch', 'christian', 'christianity', 'christians', 'christie', 'christina', 'christine', 'christmas', 'christmases', 'christophe', 'christopher', 'christos', 'chronic', 'chronically', 'chronicle', 'chronicles', 'chronology', 'chronometer', 'chrysler', 'chubb', 'chum', 'chung', 'chunk', 'church', 'churches', 'churchill', 'churlishly', 'churn', 'churning', 'chuter', 'cia', 'ciara', 'cibc', 'cicero', 'cigala', 'cigarette', 'cigarettes', 'cigars', 'cincinnati', 'cinema', 'cinemagoers', 'cinemas', 'cinematic', 'cinematographer', 'cinematographically', 'cinematography', 'ciphertrust', 'cips', 'circle', 'circles', 'circling', 'circs', 'circuit', 'circuits', 'circular', 'circulate', 'circulated', 'circulating', 'circulation', 'circumstances', 'circumvent', 'circuses', 'cirkus', 'cis', 'cisco', 'cisse', 'cite', 'cited', 'cites', 'citibank', 'cities', 'citigroup', 'citing', 'citizen', 'citizens', 'citizenship', 'citreon', 'citroen', 'citu', 'city', 'civic', 'civil', 'civilian', 'civilians', 'civilisation', 'civilised', 'cj', 'claassens', 'claes', 'claim', 'claimant', 'claimed', 'claiming', 'claims', 'claire', 'clamour', 'clamp', 'clampdown', 'clamping', 'clamshell', 'clan', 'clancy', 'clandestine', 'clangers', 'clank', 'clans', 'clapping', 'clapton', 'claquin', 'clara', 'clare', 'clarence', 'clarets', 'claridge', 'clarified', 'clarify', 'clarifying', 'clarity', 'clark', 'clarke', 'clarkson', 'clash', 'clashed', 'clashes', 'class', 'classed', 'classes', 'classic', 'classical', 'classics', 'classification', 'classifications', 'classified', 'classifying', 'classroom', 'classy', 'claude', 'claudia', 'claudio', 'clauses', 'clawed', 'claws', 'clay', 'clayton', 'clean', 'cleaned', 'cleaner', 'cleaners', 'cleaning', 'clear', 'clearance', 'cleared', 'clearer', 'clearing', 'clearly', 'clearstream', 'clearswift', 'clearview', 'cleese', 'clem', 'clement', 'clemente', 'clergyman', 'clerk', 'clermont', 'cleveland', 'clever', 'cleverly', 'cliche', 'clichy', 'click', 'clicked', 'clicking', 'clicks', 'client', 'clients', 'cliff', 'clifford', 'clijsters', 'climan', 'climate', 'climax', 'climb', 'climbdown', 'climbed', 'climbing', 'climbs', 'clinch', 'clinched', 'clinches', 'clinching', 'cling', 'clinging', 'clinic', 'clinical', 'clinically', 'clint', 'clinton', 'clipped', 'clipping', 'clips', 'cliques', 'clitheroe', 'clive', 'clock', 'clocked', 'clocking', 'clockwork', 'cloete', 'clog', 'clogged', 'clones', 'cloning', 'clooney', 'close', 'closed', 'closely', 'closer', 'closes', 'closest', 'closet', 'closets', 'closing', 'closure', 'closures', 'clothe', 'clothes', 'clothing', 'cloud', 'clouded', 'clouding', 'clown', 'clowns', 'club', 'club2school', 'clubbing', 'clubman', 'clubs', 'clue', 'cluedo', 'clues', 'cluley', 'clump', 'clumsily', 'clumsy', 'clunes', 'clung', 'clunkiness', 'clutch', 'clutches', 'clutter', 'clutterbuck', 'clyde', 'cml', 'cnpc', 'coach', 'coached', 'coaches', 'coaching', 'coachmen', 'coagulant', 'coal', 'coalition', 'coarse', 'coast', 'coastal', 'coat', 'coatings', 'cobain', 'cobalt', 'cobblestones', 'cobh', 'cobham', 'cobhwoman', 'cocaine', 'cochilco', 'cockbain', 'cockerill', 'cocktail', 'code', 'coded', 'codelco', 'codemasters', 'codename', 'codenamed', 'coders', 'codes', 'coe', 'coffee', 'coffers', 'coghlan', 'cogniron', 'cohen', 'coherence', 'coherent', 'cohesion', 'cohorts', 'coin', 'coincide', 'coincided', 'coincidence', 'coincidental', 'coincidentally', 'coinciding', 'coined', 'coins', 'col', 'cold', 'colder', 'coldplay', 'cole', 'coleman', 'colen', 'coleraine', 'colgan', 'colin', 'collaborate', 'collaborated', 'collaborating', 'collaboration', 'collaborations', 'collaborative', 'collaborator', 'collaborators', 'collapse', 'collapsed', 'collapses', 'collateral', 'collating', 'colleague', 'colleagues', 'collect', 'collected', 'collecting', 'collection', 'collections', 'collective', 'collector', 'collectors', 'collects', 'college', 'colleges', 'collegiate', 'collide', 'colliding', 'collier', 'collins', 'collision', 'collison', 'colloquial', 'colluded', 'colludes', 'colombia', 'colombian', 'colon', 'colonel', 'colonial', 'colonisation', 'colony', 'colorado', 'colorectal', 'colosseum', 'colossus', 'colour', 'coloured', 'colourful', 'colours', 'columbia', 'column', 'columnist', 'columns', 'com', 'combat', 'combatant', 'combatants', 'combating', 'combats', 'combination', 'combine', 'combined', 'combines', 'combining', 'combs', 'come', 'comeback', 'comedian', 'comedic', 'comedies', 'comedy', 'comers', 'comes', 'comfort', 'comfortable', 'comfortably', 'comic', 'comics', 'coming', 'command', 'commanded', 'commander', 'commanders', 'commanding', 'commands', 'commemoration', 'commences', 'commencing', 'commendable', 'comment', 'commentary', 'commentate', 'commentator', 'commentators', 'commented', 'commenting', 'comments', 'commerce', 'commercial', 'commercialisation', 'commercialised', 'commercially', 'commercials', 'commerzbank', 'commission', 'commissioned', 'commissioner', 'commissioners', 'commissions', 'commit', 'commited', 'commitment', 'commitments', 'committed', 'committee', 'committees', 'committing', 'commodities', 'commoditising', 'commodity', 'commodore', 'common', 'commonly', 'commonplace', 'commons', 'commonwealth', 'communicate', 'communicated', 'communicateresearch', 'communicating', 'communication', 'communications', 'communicator', 'communiqu', 'communism', 'communist', 'communists', 'communities', 'community', 'commuters', 'compact', 'companies', 'companion', 'companions', 'company', 'comparable', 'comparatively', 'compare', 'compared', 'compares', 'comparing', 'comparison', 'comparisons', 'compass', 'compassion', 'compatibility', 'compatible', 'compatriot', 'compatriots', 'compelled', 'compelling', 'compensate', 'compensated', 'compensation', 'compete', 'competed', 'competency', 'competent', 'competes', 'competing', 'competition', 'competitions', 'competitive', 'competitiveness', 'competitor', 'competitors', 'competitve', 'compilation', 'compile', 'compiled', 'compiles', 'compiling', 'complacency', 'complacent', 'complain', 'complained', 'complaining', 'complains', 'complaint', 'complaints', 'complement', 'complete', 'completed', 'completely', 'completes', 'completing', 'completion', 'completions', 'complex', 'complexes', 'complexities', 'complexity', 'compliance', 'complicated', 'complied', 'complimentary', 'comply', 'complying', 'component', 'components', 'composed', 'composer', 'composers', 'composite', 'composition', 'compositions', 'compostable', 'composure', 'compounded', 'comprehensive', 'comprehensively', 'compress', 'compressed', 'compressing', 'compression', 'comprise', 'comprised', 'comprises', 'comprising', 'compromise', 'compromised', 'compromises', 'compromising', 'comptia', 'comptroller', 'compulsion', 'compulsive', 'compulsory', 'computational', 'computer', 'computeractive', 'computerandvideogames', 'computers', 'computing', 'conceal', 'concealed', 'concealing', 'conceals', 'concede', 'conceded', 'concedes', 'conceding', 'conceivable', 'conceived', 'concentrate', 'concentrated', 'concentrates', 'concentrating', 'concentration', 'concept', 'concepts', 'conceptually', 'concern', 'concerned', 'concerning', 'concerns', 'concert', 'concerts', 'concession', 'concessions', 'conchita', 'conciliation', 'conciliatory', 'concise', 'conclude', 'concluded', 'concludes', 'concluding', 'conclusions', 'conclusive', 'conclusively', 'concrete', 'concurrently', 'condemned', 'condemning', 'condemns', 'condition', 'conditions', 'condoleezza', 'condom', 'condoms', 'conducive', 'conduct', 'conducted', 'conducting', 'conductive', 'conductor', 'conducts', 'confectionery', 'confederation', 'confer', 'conference', 'conferences', 'conferencing', 'conferring', 'confess', 'confessed', 'confessions', 'confided', 'confidence', 'confident', 'confidential', 'confidentiality', 'confidently', 'confined', 'confines', 'confirm', 'confirmation', 'confirmed', 'confirming', 'confirms', 'confiscatory', 'conflict', 'conflicting', 'conflicts', 'conform', 'conformity', 'confound', 'confounded', 'confounding']\n"
     ]
    }
   ],
   "source": [
    "#Vamos a ver cómo han quedado los términos con los parámetros por defecto y cuántos términos hay.\n",
    "feature_names = vectorizer.get_feature_names()\n",
    "\n",
    "print(len(feature_names))\n",
    "print(feature_names[:5000])"
   ]
  },
  {
   "cell_type": "code",
   "execution_count": 20,
   "metadata": {},
   "outputs": [],
   "source": [
    "#Vamos a ver los términos extraídos para los mensajes de antes.\n",
    "import numpy as np\n",
    "import numpy.ma as ma\n",
    "\n",
    "def write_terms (feature_names, data, vector_data, index):\n",
    "    '''\n",
    "    Escribe los términos presentes en un mensaje representado como bolsa de palabras.\n",
    "    \n",
    "    - feature_names: terminos usados para vectorizar\n",
    "    - data: lista de mensajes original (si data==None no se muestra el mensaje original)\n",
    "    - vector_data: matriz (dispersa) de mensaje vectorizados\n",
    "    - index: posición del mensaje a mostrar\n",
    "    '''\n",
    "    # máscara para seleccionar sólo el mensaje en posición index\n",
    "    mask=vector_data[index,:]>0\n",
    "    \n",
    "    # términos que aparecen en ese mensaje vectorizado\n",
    "    terminos = ma.array(feature_names, mask = ~(mask[0].toarray()))\n",
    "    \n",
    "    # mostrar mensaje original\n",
    "    if data is not None:\n",
    "        print('Mensaje', index, ':', data[index])\n",
    "    \n",
    "    # mostrar términos que aparecen en el mensaje vectorizado\n",
    "    print('Mensaje', index, 'vectorizado:', terminos.compressed(),'\\n')"
   ]
  },
  {
   "cell_type": "code",
   "execution_count": 21,
   "metadata": {},
   "outputs": [
    {
     "name": "stdout",
     "output_type": "stream",
     "text": [
      "Mensaje 10 vectorizado: ['13' '19' 'able' 'absolutely' 'african' 'ahead' 'andy' 'awesome' 'ball'\n",
      " 'bbc' 'blasts' 'bodies' 'called' 'came' 'chance' 'charge' 'charlie'\n",
      " 'clive' 'coach' 'consult' 'cope' 'corry' 'cost' 'couple' 'crashed'\n",
      " 'credit' 'cross' 'cueto' 'decisions' 'declined' 'defended' 'denied' 'did'\n",
      " 'didn' 'disappointed' 'dominated' 'don' 'doubt' 'dublin' 'dying' 'effort'\n",
      " 'england' 'famous' 'field' 'fly' 'forwards' 'fourth' 'fuming' 'game'\n",
      " 'games' 'gather' 'given' 'gone' 'good' 'got' 'half' 'hodgson' 'hoisted'\n",
      " 'hurt' 'ireland' 'irish' 'jonathan' 'josh' 'kaplan' 'kick' 'know' 'legal'\n",
      " 'lewis' 'lewsey' 'likes' 'line' 'livid' 'looked' 'loss' 'lost'\n",
      " 'magnificently' 'mark' 'martin' 'matches' 'matt' 'minutes' 'moody'\n",
      " 'nations' 'official' 'officials' 'offside' 'perfectly' 'pile' 'players'\n",
      " 'pressure' 'prop' 'proud' 'referee' 'replays' 'robinson' 'rugby' 'ruled'\n",
      " 'said' 'sale' 'scored' 'september' 'sir' 'south' 'spitting' 'sport'\n",
      " 'spurned' 'stevens' 'stood' 'sunday' 'technology' 'think' 'thought'\n",
      " 'tighthead' 'told' 'took' 'tries' 'try' 'trying' 'tv' 'upset' 'use'\n",
      " 'used' 've' 'victory' 'video' 'way' 'win' 'wing' 'winning' 'woodward'\n",
      " 'work' 'year'] \n",
      "\n",
      "Mensaje 100 vectorizado: ['15th' '1989' '1999' 'actors' 'added' 'appeared' 'arrival' 'atkinson'\n",
      " 'baldrick' 'bbc' 'best' 'blackadder' 'bskyb' 'celebrate' 'century'\n",
      " 'characters' 'charging' 'comeback' 'comedy' 'denies' 'different' 'dome'\n",
      " 'ended' 'episode' 'era' 'farewell' 'filmed' 'final' 'finale' 'fry'\n",
      " 'german' 'greenwich' 'hit' 'host' 'hugh' 'including' 'itv1' 'keen'\n",
      " 'killed' 'later' 'laurie' 'lines' 'love' 'main' 'millennium' 'miranda'\n",
      " 'morning' 'new' 'ordered' 'past' 'pipeline' 'plans' 'played' 'poignant'\n",
      " 'ranging' 'returned' 'richardson' 'robinson' 'rowan' 'said' 'screened'\n",
      " 'series' 'servant' 'set' 'shown' 'special' 'star' 'stephen' 'thursday'\n",
      " 'told' 'tony' 'trench' 'tv' 'uk' 'voted' 'war' 'world'] \n",
      "\n"
     ]
    }
   ],
   "source": [
    "#write_terms(feature_names, train_data.data, train_vector_data, 10)\n",
    "write_terms(feature_names, None, train_vector_data, 10)\n",
    "\n",
    "write_terms(feature_names, None, train_vector_data, 100)"
   ]
  },
  {
   "cell_type": "markdown",
   "metadata": {},
   "source": [
    "podemos ver como ha eliminado palabras irrelevantes como numeros o fechas, ademas de palabras como meses(febrero o septiembre), ademas de palabras normalmente comunes como think, today, time.....\n",
    "tambien podemos ver que eliminada psoibles palabras relevantes dependiendo del tema, como podria ser confidence o economia, respecto a temas de negocios o politica , aunque las eliminada porque pueden ser ambiguas dependiendo del contexto."
   ]
  },
  {
   "cell_type": "code",
   "execution_count": 22,
   "metadata": {},
   "outputs": [
    {
     "name": "stdout",
     "output_type": "stream",
     "text": [
      "  (0, 22248)\t0.020388449827309064\n",
      "  (0, 22098)\t0.035036067931643766\n",
      "  (0, 22086)\t0.06680006258990306\n",
      "  (0, 22003)\t0.08377329978675943\n",
      "  (0, 21993)\t0.06338017775568379\n",
      "  (0, 21978)\t0.0701982130268547\n",
      "  (0, 21762)\t0.030190942201958032\n",
      "  (0, 21468)\t0.04507823705159167\n",
      "  (0, 21466)\t0.04720456984528118\n",
      "  (0, 21377)\t0.1269838929678098\n",
      "  (0, 21268)\t0.03568114115936451\n",
      "  (0, 21267)\t0.035162462671270184\n",
      "  (0, 21230)\t0.06680006258990306\n",
      "  (0, 20814)\t0.04221617540223954\n",
      "  (0, 20750)\t0.04564997962994826\n",
      "  (0, 20749)\t0.13523471115477498\n",
      "  (0, 20676)\t0.1792867166863656\n",
      "  (0, 20417)\t0.07600110448758433\n",
      "  (0, 20389)\t0.029363263928681264\n",
      "  (0, 20317)\t0.08423433716275497\n",
      "  (0, 20236)\t0.041565538727963175\n",
      "  (0, 20212)\t0.07123024872699499\n",
      "  (0, 20023)\t0.081693409513269\n",
      "  (0, 19589)\t0.04244075584756224\n",
      "  (0, 19289)\t0.06399377119041236\n",
      "  :\t:\n",
      "  (0, 5453)\t0.07719651346830711\n",
      "  (0, 5392)\t0.05173754276745209\n",
      "  (0, 5338)\t0.04439827844579047\n",
      "  (0, 5325)\t0.06847937618188114\n",
      "  (0, 5263)\t0.06021960459773693\n",
      "  (0, 5120)\t0.07403594031036025\n",
      "  (0, 4607)\t0.04671768953021813\n",
      "  (0, 4555)\t0.06118747979092166\n",
      "  (0, 4214)\t0.1306376060478686\n",
      "  (0, 4201)\t0.051045101609029225\n",
      "  (0, 4161)\t0.08627922356668231\n",
      "  (0, 3777)\t0.03760873953455093\n",
      "  (0, 3753)\t0.037764002873704565\n",
      "  (0, 3131)\t0.0653188030239343\n",
      "  (0, 3022)\t0.07913513873655761\n",
      "  (0, 2683)\t0.03279567108867265\n",
      "  (0, 2506)\t0.052724415201007326\n",
      "  (0, 2390)\t0.15103439975265803\n",
      "  (0, 1782)\t0.05197709611957569\n",
      "  (0, 1480)\t0.04210537141908381\n",
      "  (0, 1420)\t0.06118747979092166\n",
      "  (0, 1102)\t0.0580829253034771\n",
      "  (0, 1083)\t0.03800055224379217\n",
      "  (0, 260)\t0.04996956015433883\n",
      "  (0, 115)\t0.04704017311564301\n"
     ]
    }
   ],
   "source": [
    "# Calculamos el valor TF-IDF \n",
    "#Pasamos las ferceuncias TF-IDF \n",
    "tfidfer = TfidfTransformer()\n",
    "train_preprocessed = tfidfer.fit_transform(train_vector_data)\n",
    "\n",
    "print(train_preprocessed[10])"
   ]
  },
  {
   "cell_type": "markdown",
   "metadata": {},
   "source": [
    "Para probar los clasificadores en el conjunto de prueba, debemos transformar también los mensajes en bolsas de palabras con TF/IDF usando el CountVectorizer y TfidfTransformer ajustados con el conjunto de entrenamiento."
   ]
  },
  {
   "cell_type": "code",
   "execution_count": 23,
   "metadata": {},
   "outputs": [],
   "source": [
    "# Tomamos los textos del conjunto de test y los transformamos en una matriz\n",
    "# de palabras. Al usar \"transform\" toma como referencia únicamente las palabras\n",
    "# encontradas en el conjunto de entrenamiento\n",
    "#pasamos esta configuracion para el conjunto de entrenamiento, pasamos dos matrices, conjunto de evlauacion y entrenamiento\n",
    "test_vector_data=vectorizer.transform(test_data)\n",
    "# Calculamos el valor TF-IDF \n",
    "# Al usar \"transform\" toma como IDF el del conjunto de entrenamiento \n",
    "test_preprocessed=tfidfer.transform(test_vector_data)"
   ]
  },
  {
   "cell_type": "markdown",
   "metadata": {},
   "source": [
    "Pasamos a elegir distintos clasificadores. Usaremos clasificadores naive bayes y árbol de decisión eligiendo para cada uno de ellos el mas conveniente.\n",
    "-  Naive bayes:\n",
    "    - Bolsa de palabras binarias con n-grama (1,1): Usaremos el clasificador \"Naive Bayes Multinomial Binarizado\" ya que es el mas conveniente para esta bolsa de palabras. Esto se debe a que lo importante es la presencia de palabras que indiquen sentimiento. En nuestro caso asi seria ya que buscamos comentarios posisivos o negativos."
   ]
  },
  {
   "cell_type": "code",
   "execution_count": 24,
   "metadata": {},
   "outputs": [
    {
     "name": "stdout",
     "output_type": "stream",
     "text": [
      "Multinomial Naive Bayes, porcentaje de aciertos en entrenamiento: 0.9949664429530202\n",
      "Multinomial Naive Bayes, porcentaje de aciertos en test: 0.9496644295302014\n"
     ]
    }
   ],
   "source": [
    "#clasifica los texts suponiendo que nuestros terminos o variables son independientes unas de otras\n",
    "#\n",
    "\n",
    "from sklearn.naive_bayes import MultinomialNB\n",
    "\n",
    "mnb_classifier = MultinomialNB()\n",
    "\n",
    "mnb_classifier.fit(train_preprocessed, train_category)\n",
    "\n",
    "mnb_train_predictions = mnb_classifier.predict(train_preprocessed)\n",
    "mnb_test_predictions = mnb_classifier.predict(test_preprocessed)\n",
    "#calculamos las tasas de acierto  train_category, test_category\n",
    "print(\"Multinomial Naive Bayes, porcentaje de aciertos en entrenamiento:\", np.mean(mnb_train_predictions == train_category))\n",
    "print(\"Multinomial Naive Bayes, porcentaje de aciertos en test:\", np.mean(mnb_test_predictions == test_category))"
   ]
  },
  {
   "cell_type": "markdown",
   "metadata": {},
   "source": [
    "A continuación calcula los valores de precisión, exhaustividad y puntuación F1 para cada una de las clases.\n",
    "sport            346\n",
    "business         336\n",
    "politics         274\n",
    "entertainment    273\n",
    "tech             261\n",
    "Name: Category, dtype: int64"
   ]
  },
  {
   "cell_type": "code",
   "execution_count": 25,
   "metadata": {},
   "outputs": [
    {
     "name": "stdout",
     "output_type": "stream",
     "text": [
      "               precision    recall  f1-score   support\n",
      "\n",
      "        sport       0.84      1.00      0.91        56\n",
      "     business       1.00      0.90      0.95        60\n",
      "     politics       0.98      0.89      0.93        70\n",
      "entertainment       0.99      1.00      0.99        69\n",
      "         tech       0.95      0.98      0.97        43\n",
      "\n",
      "     accuracy                           0.95       298\n",
      "    macro avg       0.95      0.95      0.95       298\n",
      " weighted avg       0.96      0.95      0.95       298\n",
      "\n"
     ]
    }
   ],
   "source": [
    "from sklearn.metrics import classification_report, confusion_matrix\n",
    "\n",
    "classifier=mnb_classifier\n",
    "print(classification_report(test_category, mnb_test_predictions, target_names=(\"sport\",\"business\",\"politics\",\"entertainment\",\"tech\")))"
   ]
  },
  {
   "cell_type": "markdown",
   "metadata": {},
   "source": [
    "Dibuja la matriz de confusión. Analiza los resultados obtenidos.\n",
    "\n",
    "A continuación, entrena un clasificador k-NN con la configuración por defecto y usando la misma vectorización. Analiza los resultados, ¿a qué crees que se deben?"
   ]
  },
  {
   "cell_type": "code",
   "execution_count": 28,
   "metadata": {},
   "outputs": [
    {
     "data": {
      "text/plain": [
       "(array([0.5, 1.5, 2.5, 3.5, 4.5]),\n",
       " [Text(0.5, 0, 'sport'),\n",
       "  Text(1.5, 0, 'business'),\n",
       "  Text(2.5, 0, 'politics'),\n",
       "  Text(3.5, 0, 'entertainment'),\n",
       "  Text(4.5, 0, 'tech')])"
      ]
     },
     "execution_count": 28,
     "metadata": {},
     "output_type": "execute_result"
    },
    {
     "data": {
      "image/png": "[encoded data removed]",
      "text/plain": [
       "<Figure size 1080x720 with 2 Axes>"
      ]
     },
     "metadata": {
      "needs_background": "light"
     },
     "output_type": "display_data"
    }
   ],
   "source": [
    "from sklearn.metrics import classification_report, confusion_matrix\n",
    "%matplotlib inline\n",
    "import pandas as pd\n",
    "import seaborn as sn\n",
    "import matplotlib.pyplot as plt\n",
    "\n",
    "conf_matrix = confusion_matrix(test_category, mnb_test_predictions)\n",
    "conf_matrix_df = pd.DataFrame(conf_matrix, index=(\"sport\",\"business\",\"politics\",\"entertainment\",\"tech\"), columns=(\"sport\",\"business\",\"politics\",\"entertainment\",\"tech\"))\n",
    "\n",
    "plt.figure(figsize=(15, 10))\n",
    "sn.heatmap(conf_matrix_df, annot=True, vmin=0, vmax=conf_matrix.max(), fmt='d', cmap=\"YlGnBu\")\n",
    "plt.yticks(rotation=0)\n",
    "plt.xticks(rotation=90)\n",
    "#matriz de confusion para intrerpretar los datos"
   ]
  },
  {
   "cell_type": "markdown",
   "metadata": {},
   "source": [
    "Una fila con muchas observaciones fuera de la celda de la diagonal principal, indica una exhaustividad baja.\n",
    "Si las observaciones se concentran en alguna celda fuera de la diagonal, indica que son clasificadas (erróneamente) como de la clase a la que pertenezca su fila.\n",
    "Una columna con muchas observaciones fuera de la celda de la diagonal principal, indica una una precisión baja, o una contaminación en la precisión del clasificador."
   ]
  },
  {
   "cell_type": "code",
   "execution_count": 29,
   "metadata": {},
   "outputs": [
    {
     "name": "stdout",
     "output_type": "stream",
     "text": [
      "k-NN, porcentaje de aciertos en entrenamiento: 0.9588926174496645\n",
      "k-NN, porcentaje de aciertos en test: 0.9496644295302014\n"
     ]
    }
   ],
   "source": [
    "#con k-nn podemos encontrar textos que son mas cercanos o parecidos a uno\n",
    "from sklearn import neighbors\n",
    "\n",
    "knn_classifier = neighbors.KNeighborsClassifier()\n",
    "knn_classifier.fit(train_preprocessed, train_category)\n",
    "\n",
    "knn_train_predictions = knn_classifier.predict(train_preprocessed)\n",
    "knn_test_predictions = knn_classifier.predict(test_preprocessed)\n",
    "\n",
    "print(\"k-NN, porcentaje de aciertos en entrenamiento:\", np.mean(knn_train_predictions == train_category))\n",
    "print(\"k-NN, porcentaje de aciertos en test:\", np.mean(knn_test_predictions == test_category))"
   ]
  },
  {
   "cell_type": "markdown",
   "metadata": {},
   "source": [
    "Según los resultados es posible que se pueda encontrar parámetros para el que la diferencia entre el error de entrenamiento y test no sea tan acusada.\n",
    "\n",
    "No obstante, el k-NN no es una técnica adecuada para este tipo de problemas donde las variables son del orden de los millares (palabras diferentes en el corpus) ya que sufre de la maldición de la dimensionalidad. Intenta buscar vecinos en un espacio de dimensiones muy elevado."
   ]
  },
  {
   "cell_type": "markdown",
   "metadata": {},
   "source": [
    "## 3) Representación basada en word-embeddings\n",
    "\n",
    "La segunda vectorización que vamos a usar representará los mensajes usando word-embeddings. Cada documento se representará como el vector que resulta de promediar los embeddings de cada una de sus palabras. Al igual que en el apartado anterior, usaremos monogramas y las _stop words_ que vienen configuradas por defecto para el inglés. Recuerda usar como vocabulario para vectorizar el vocabulario del fichero con las word-embeddings. \n",
    "\n",
    "Entrena un clasificador Naive Bayes Gaussiano (el Multinomial no admite valores negativos que sí aparecen en los embeddings). Analiza el error por clase y dibuja la matriz de confusión.\n",
    "\n",
    "Entrena otro clasificador kNN con la nueva vectorización y la configuración por defecto y analiza su error."
   ]
  },
  {
   "cell_type": "code",
   "execution_count": 37,
   "metadata": {},
   "outputs": [
    {
     "ename": "ModuleNotFoundError",
     "evalue": "No module named 'gensim'",
     "output_type": "error",
     "traceback": [
      "\u001b[1;31m---------------------------------------------------------------------------\u001b[0m",
      "\u001b[1;31mModuleNotFoundError\u001b[0m                       Traceback (most recent call last)",
      "\u001b[1;32m~\\AppData\\Local\\Temp/ipykernel_13696/1815692149.py\u001b[0m in \u001b[0;36m<module>\u001b[1;34m\u001b[0m\n\u001b[0;32m      1\u001b[0m \u001b[1;31m#estructura clave(termino)-valor(word-embeding)\u001b[0m\u001b[1;33m\u001b[0m\u001b[1;33m\u001b[0m\u001b[0m\n\u001b[1;32m----> 2\u001b[1;33m \u001b[1;32mfrom\u001b[0m \u001b[0mgensim\u001b[0m\u001b[1;33m.\u001b[0m\u001b[0mscripts\u001b[0m\u001b[1;33m.\u001b[0m\u001b[0mglove2word2vec\u001b[0m \u001b[1;32mimport\u001b[0m \u001b[0mglove2word2vec\u001b[0m\u001b[1;33m\u001b[0m\u001b[1;33m\u001b[0m\u001b[0m\n\u001b[0m\u001b[0;32m      3\u001b[0m \u001b[1;32mfrom\u001b[0m \u001b[0mgensim\u001b[0m\u001b[1;33m.\u001b[0m\u001b[0mmodels\u001b[0m \u001b[1;32mimport\u001b[0m \u001b[0mKeyedVectors\u001b[0m\u001b[1;33m\u001b[0m\u001b[1;33m\u001b[0m\u001b[0m\n\u001b[0;32m      4\u001b[0m \u001b[0mglove_file\u001b[0m \u001b[1;33m=\u001b[0m \u001b[1;34m\"BBC News.csv\"\u001b[0m\u001b[1;33m\u001b[0m\u001b[1;33m\u001b[0m\u001b[0m\n\u001b[0;32m      5\u001b[0m \u001b[1;33m\u001b[0m\u001b[0m\n",
      "\u001b[1;31mModuleNotFoundError\u001b[0m: No module named 'gensim'"
     ]
    }
   ],
   "source": [
    "#estructura clave(termino)-valor(word-embeding)\n",
    "from gensim.scripts.glove2word2vec import glove2word2vec\n",
    "from gensim.models import KeyedVectors\n",
    "glove_file = \"BBC News.csv\"\n",
    "\n",
    "model = KeyedVectors.load_word2vec_format(glove_file, binary=False, no_header=True)"
   ]
  },
  {
   "cell_type": "code",
   "execution_count": null,
   "metadata": {},
   "outputs": [],
   "source": [
    "from scipy.sparse import find\n",
    "\n",
    "#creamos un word embeding para cada uno de nuestras frases\n",
    "def create_doc_embedding (doc_matrix_word_freq, keyedvectors):\n",
    "    \"\"\"\n",
    "    create_doc_embedding creates a doc-embedding matrix where rows are the \n",
    "    documents and columns are the dimensions of the word-embedding. Each row r\n",
    "    summarizes the vectors of the word-embeddings present in document r\n",
    "\n",
    "    :param doc_matrix_word_freq: frequency matrix of the terms in each document\n",
    "            It admits binary values, frequencies or weights.\n",
    "            It admits the output of vectorizer.fit_transform\n",
    "    :param keyedvectors: keyedvectors object from Gensim which has the \n",
    "            word-embedding information\n",
    "    :return: returns the doc-embedding matrix that summarizes the \n",
    "             vector-embeddings of the words present in each document\n",
    "    \"\"\" \n",
    "\n",
    "    \n",
    "    num_docs, num_words= doc_matrix_word_freq.get_shape()\n",
    "\n",
    "    # Creamos la matriz de documentos con tantas columnas como dimensiones tiene el we \n",
    "    doc_embed_matrix = np.zeros([num_docs,keyedvectors.vector_size])\n",
    "\n",
    "\n",
    "    # Obtenemos los documentos\n",
    "    docs, col, val = find(doc_matrix_word_freq)\n",
    "    docs = np.unique(docs)\n",
    "\n",
    "    # Para cada documento (esto se podrá hacer de forma más pythonica)\n",
    "    for doc in docs:\n",
    "      # Obtenemos las palabras presentes en el documento y su frecuencia\n",
    "      row, words, frecs = find(doc_matrix_word_freq[doc,:])\n",
    "\n",
    "      # Calculamos el vector medio para el documento\n",
    "      # Para ello recuperamos los vectores del we presentes en el documento y \n",
    "      # los promediamos teniendo en cuenta su frecuencia\n",
    "      count = 0\n",
    "      for w,f in zip(words,frecs):\n",
    "        doc_embed_matrix[doc,:] = doc_embed_matrix[doc,:] + (keyedvectors[w] * f)\n",
    "        count = count +1\n",
    "      doc_embed_matrix[doc,:] = doc_embed_matrix[doc,:]/count\n",
    "    \n",
    "      \n",
    "    return doc_embed_matrix"
   ]
  },
  {
   "cell_type": "code",
   "execution_count": 36,
   "metadata": {},
   "outputs": [
    {
     "ename": "NameError",
     "evalue": "name 'we_vocabulary' is not defined",
     "output_type": "error",
     "traceback": [
      "\u001b[1;31m---------------------------------------------------------------------------\u001b[0m",
      "\u001b[1;31mNameError\u001b[0m                                 Traceback (most recent call last)",
      "\u001b[1;32m~\\AppData\\Local\\Temp/ipykernel_13696/308475706.py\u001b[0m in \u001b[0;36m<module>\u001b[1;34m\u001b[0m\n\u001b[0;32m      1\u001b[0m \u001b[1;31m# En vocabulary le pasamos el de la word-embedding, ponemos que pase los tokens a minusculas\u001b[0m\u001b[1;33m\u001b[0m\u001b[1;33m\u001b[0m\u001b[0m\n\u001b[0;32m      2\u001b[0m \u001b[1;31m# Si ponemos binary a False coge frecuencias y si está en true presencia en modo binario\u001b[0m\u001b[1;33m\u001b[0m\u001b[1;33m\u001b[0m\u001b[0m\n\u001b[1;32m----> 3\u001b[1;33m \u001b[0mvectorizer\u001b[0m \u001b[1;33m=\u001b[0m \u001b[0mCountVectorizer\u001b[0m\u001b[1;33m(\u001b[0m\u001b[0mvocabulary\u001b[0m \u001b[1;33m=\u001b[0m \u001b[0mwe_vocabulary\u001b[0m\u001b[1;33m,\u001b[0m \u001b[0mbinary\u001b[0m \u001b[1;33m=\u001b[0m \u001b[1;32mFalse\u001b[0m\u001b[1;33m)\u001b[0m\u001b[1;33m\u001b[0m\u001b[1;33m\u001b[0m\u001b[0m\n\u001b[0m\u001b[0;32m      4\u001b[0m \u001b[1;31m# Si usamos la lista de palabras vacías del inglés de sklearn quitamos artículos, preposiciones, etc\u001b[0m\u001b[1;33m\u001b[0m\u001b[1;33m\u001b[0m\u001b[0m\n\u001b[0;32m      5\u001b[0m \u001b[1;31m#vectorizer = CountVectorizer(vocabulary = we_vocabulary, , stop_words='english', binary = False)\u001b[0m\u001b[1;33m\u001b[0m\u001b[1;33m\u001b[0m\u001b[0m\n",
      "\u001b[1;31mNameError\u001b[0m: name 'we_vocabulary' is not defined"
     ]
    }
   ],
   "source": [
    "we_vocabulary = list(model.key_to_index.keys())\n",
    "# En vocabulary le pasamos el de la word-embedding, ponemos que pase los tokens a minusculas \n",
    "# Si ponemos binary a False coge frecuencias y si está en true presencia en modo binario\n",
    "vectorizer = CountVectorizer(vocabulary = we_vocabulary, binary = False)\n",
    "# Si usamos la lista de palabras vacías del inglés de sklearn quitamos artículos, preposiciones, etc \n",
    "#vectorizer = CountVectorizer(vocabulary = we_vocabulary, , stop_words='english', binary = False)\n",
    "\n",
    "\n",
    "X = vectorizer.fit_transform(df)\n",
    "#en X tendremos una matriz de frecunecias con nuestro diccionario(corpus)\n",
    "# Mostramos las primeras palabras del diccionario para ver que son las mismas\n",
    "tokens = vectorizer.get_feature_names_out()\n",
    "# El array vectorizado tiene tantas filas como el corpus y \n",
    "# tantas columnas como palabras tiene la word-embedding\n",
    "# Se trata de una matriz dispersa, pero vemos que los \"the\"\n",
    "# están bien contabilizados y que se mantiene la ordenación del\n",
    "# vocabulario dado\n",
    "X.toarray()"
   ]
  },
  {
   "cell_type": "code",
   "execution_count": null,
   "metadata": {},
   "outputs": [],
   "source": [
    "import numpy as np\n",
    "import matplotlib.pyplot as plt\n",
    "#dibujamos el word-embeding se agrupan las palabras segun su similitud\n",
    "# Escribimos las palabras a representar\n",
    "words = [ \"madrid\", \"rome\", \"paris\", \"google\",\"yahoo\", \"ibm\", \"hardware\", \"pc\", \"winter\", \"summer\", \"spring\", \"tomato\", \"carrot\", \"onion\"]\n",
    "\n",
    "# Recuperamos los índices de las palabras que nos interesan  \n",
    "#indexes = [model.vocab[w].index for w in words]  #gensim 3\n",
    "indexes = [model.key_to_index[w] for w in words]  #gensim 4\n",
    "\n",
    "\n",
    "# Componemos una matriz con los vectores 2D de las palabras que nos interesan\n",
    "vectors = np.vstack([wordspace2D[i,:] for i in indexes])  \n",
    "\n",
    "# Representamos los vectores en un diagrama de dispersión\n",
    "plt.scatter(vectors[:, 0], vectors[:, 1])\n",
    "\n",
    "for label, x, y in zip(words, vectors[:, 0], vectors[:, 1]):\n",
    "    plt.annotate(label, xy=(x, y), xytext=(0, 0), textcoords='offset points')\n"
   ]
  },
  {
   "cell_type": "code",
   "execution_count": null,
   "metadata": {},
   "outputs": [],
   "source": [
    "\n",
    "doc_embed_matrix = create_doc_embedding(X,model)"
   ]
  },
  {
   "cell_type": "code",
   "execution_count": 35,
   "metadata": {},
   "outputs": [
    {
     "ename": "NameError",
     "evalue": "name 'KeyedVectors' is not defined",
     "output_type": "error",
     "traceback": [
      "\u001b[1;31m---------------------------------------------------------------------------\u001b[0m",
      "\u001b[1;31mNameError\u001b[0m                                 Traceback (most recent call last)",
      "\u001b[1;32m~\\AppData\\Local\\Temp/ipykernel_13696/2870050190.py\u001b[0m in \u001b[0;36m<module>\u001b[1;34m\u001b[0m\n\u001b[1;32m----> 1\u001b[1;33m \u001b[0mmodel\u001b[0m \u001b[1;33m=\u001b[0m \u001b[0mKeyedVectors\u001b[0m\u001b[1;33m.\u001b[0m\u001b[0mload_word2vec_format\u001b[0m\u001b[1;33m(\u001b[0m\u001b[1;34m\"BBC News.csv\"\u001b[0m\u001b[1;33m,\u001b[0m \u001b[0mbinary\u001b[0m\u001b[1;33m=\u001b[0m\u001b[1;32mFalse\u001b[0m\u001b[1;33m,\u001b[0m \u001b[0mno_header\u001b[0m\u001b[1;33m=\u001b[0m\u001b[1;32mTrue\u001b[0m\u001b[1;33m,\u001b[0m \u001b[0mstop_words\u001b[0m\u001b[1;33m=\u001b[0m\u001b[1;34m'english'\u001b[0m\u001b[1;33m,\u001b[0m \u001b[0mngram_range\u001b[0m\u001b[1;33m=\u001b[0m\u001b[1;33m(\u001b[0m\u001b[1;36m1\u001b[0m\u001b[1;33m,\u001b[0m\u001b[1;36m1\u001b[0m\u001b[1;33m)\u001b[0m\u001b[1;33m)\u001b[0m\u001b[1;33m\u001b[0m\u001b[1;33m\u001b[0m\u001b[0m\n\u001b[0m",
      "\u001b[1;31mNameError\u001b[0m: name 'KeyedVectors' is not defined"
     ]
    }
   ],
   "source": [
    "model = KeyedVectors.load_word2vec_format(\"BBC News.csv\", binary=False, no_header=True, stop_words='english', ngram_range=(1,1))"
   ]
  },
  {
   "cell_type": "code",
   "execution_count": null,
   "metadata": {},
   "outputs": [],
   "source": [
    "#pasamos una palabra y nos da las palabras mas similares con la similitud del coseno\n",
    "x = model.most_similar(positive=['red'], topn=5)\n",
    "print(x)"
   ]
  },
  {
   "cell_type": "code",
   "execution_count": null,
   "metadata": {},
   "outputs": [],
   "source": [
    "# Al buscar un término similar a \"pencil\" encontramos otros objetos de papelería básicos, pero también sus plurales\n",
    "x = model.most_similar(positive=['pencil'], topn=5)\n",
    "print(x)"
   ]
  },
  {
   "cell_type": "code",
   "execution_count": null,
   "metadata": {},
   "outputs": [],
   "source": [
    "#comparamos\n",
    "from sklearn.metrics.pairwise import cosine_similarity\n",
    "\n",
    "query = vectorizer.fit_transform(['I had a marvelous snack'])\n",
    "\n",
    "embed_query = create_doc_embedding(query,model)\n",
    "\n",
    "simil = cosine_similarity(embed_query, doc_embed_matrix)\n",
    "#nos devuelve el valor de similitud para cda una de nuestras palabras\n",
    "#si queremos saber la tematica de cada frase\n",
    "#podemos saber que frase es mas similiar a nuestra tematica de coorpus\n",
    "print(simil)"
   ]
  },
  {
   "cell_type": "markdown",
   "metadata": {},
   "source": [
    "## 4) Análisis comparativo final\n",
    "\n",
    "Hemos entrenado dos clasificadores usando dos vectorizaciones diferentes de los datos. Compara la tasa de acierto de todos ellos y explica a qué crees que se deben las diferencias.\n",
    "\n",
    "Busca un mensaje mal clasificado por el Naive Bayes con vectorización de frecuencias y otro mal clasificado por el k-NN con Word-embeddings. Analiza los vectores de términos de dichos mensajes e intenta razonar por qué ha sido clasificado erróneamente.\n",
    "\n",
    "Para el Naive Bayes con vectorización de frecuencias, elige dos clases donde el clasificador no haya funcionado bien y analiza las palabras más relevantes para clasificar una noticia como de dichas clases. Razona si lo que ves crees que influye en la posible confusión a la hora de clasificar entre dichas clases."
   ]
  },
  {
   "cell_type": "code",
   "execution_count": null,
   "metadata": {},
   "outputs": [],
   "source": []
  }
 ],
 "metadata": {
  "kernelspec": {
   "display_name": "Python 3 (ipykernel)",
   "language": "python",
   "name": "python3"
  },
  "language_info": {
   "codemirror_mode": {
    "name": "ipython",
    "version": 3
   },
   "file_extension": ".py",
   "mimetype": "text/x-python",
   "name": "python",
   "nbconvert_exporter": "python",
   "pygments_lexer": "ipython3",
   "version": "3.9.7"
  }
 },
 "nbformat": 4,
 "nbformat_minor": 2
}
